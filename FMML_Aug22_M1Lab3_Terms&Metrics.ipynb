{
  "nbformat": 4,
  "nbformat_minor": 0,
  "metadata": {
    "colab": {
      "provenance": [],
      "collapsed_sections": [],
      "include_colab_link": true
    },
    "kernelspec": {
      "name": "python3",
      "display_name": "Python 3"
    },
    "language_info": {
      "name": "python"
    },
    "accelerator": "GPU"
  },
  "cells": [
    {
      "cell_type": "markdown",
      "metadata": {
        "id": "view-in-github",
        "colab_type": "text"
      },
      "source": [
        "<a href=\"https://colab.research.google.com/github/FMML20220064/FMML2022-AUGUST_LABS_PROJECTS/blob/main/FMML_Aug22_M1Lab3_Terms%26Metrics.ipynb\" target=\"_parent\"><img src=\"https://colab.research.google.com/assets/colab-badge.svg\" alt=\"Open In Colab\"/></a>"
      ]
    },
    {
      "cell_type": "markdown",
      "metadata": {
        "id": "3Eu9VZbF01eq"
      },
      "source": [
        "# Machine learning terms and metrics\n",
        "\n",
        "FMML Module 1, Lab 3<br>\n",
        "Module Coordinator: Amit Pandey amit.pandey@research.iiit.ac.in <br>\n",
        "<br>\n",
        "\n",
        " In this lab, we will show a part of the ML pipeline by extracting features, training and testing. We will also explore how data augmentation affects accuracy."
      ]
    },
    {
      "cell_type": "code",
      "metadata": {
        "id": "8qBvyEem0vLi"
      },
      "source": [
        "import matplotlib.pyplot as plt\n",
        "import numpy as np\n",
        "from sklearn import datasets\n",
        "# set randomseed\n",
        "rng = np.random.default_rng(seed=42)"
      ],
      "execution_count": 1,
      "outputs": []
    },
    {
      "cell_type": "markdown",
      "metadata": {
        "id": "u3t59g5s1HfC"
      },
      "source": [
        "In this lab, we will use the California Housing dataset. There are 20640 samples, each with 8 attributes like income of the block, age of the houses per district etc. The task is to predict the cost of the houses per district. \n",
        "\n",
        "Let us download and examine the dataset. "
      ]
    },
    {
      "cell_type": "code",
      "metadata": {
        "id": "8LpqjN991GGJ",
        "colab": {
          "base_uri": "https://localhost:8080/"
        },
        "outputId": "7ed0f880-d88e-4f8f-a92c-7f5b0310ccc1"
      },
      "source": [
        "dataset =  datasets.fetch_california_housing()\n",
        "print(dataset.DESCR)  # uncomment this if you want to know more about this dataset\n",
        "print(dataset.keys())  # if you want to know what else is there in this dataset\n",
        "dataset.target = dataset.target.astype(np.int) # so that we can classify\n",
        "print(dataset.data.shape)\n",
        "print(dataset.target.shape)"
      ],
      "execution_count": 2,
      "outputs": [
        {
          "output_type": "stream",
          "name": "stdout",
          "text": [
            ".. _california_housing_dataset:\n",
            "\n",
            "California Housing dataset\n",
            "--------------------------\n",
            "\n",
            "**Data Set Characteristics:**\n",
            "\n",
            "    :Number of Instances: 20640\n",
            "\n",
            "    :Number of Attributes: 8 numeric, predictive attributes and the target\n",
            "\n",
            "    :Attribute Information:\n",
            "        - MedInc        median income in block group\n",
            "        - HouseAge      median house age in block group\n",
            "        - AveRooms      average number of rooms per household\n",
            "        - AveBedrms     average number of bedrooms per household\n",
            "        - Population    block group population\n",
            "        - AveOccup      average number of household members\n",
            "        - Latitude      block group latitude\n",
            "        - Longitude     block group longitude\n",
            "\n",
            "    :Missing Attribute Values: None\n",
            "\n",
            "This dataset was obtained from the StatLib repository.\n",
            "https://www.dcc.fc.up.pt/~ltorgo/Regression/cal_housing.html\n",
            "\n",
            "The target variable is the median house value for California districts,\n",
            "expressed in hundreds of thousands of dollars ($100,000).\n",
            "\n",
            "This dataset was derived from the 1990 U.S. census, using one row per census\n",
            "block group. A block group is the smallest geographical unit for which the U.S.\n",
            "Census Bureau publishes sample data (a block group typically has a population\n",
            "of 600 to 3,000 people).\n",
            "\n",
            "An household is a group of people residing within a home. Since the average\n",
            "number of rooms and bedrooms in this dataset are provided per household, these\n",
            "columns may take surpinsingly large values for block groups with few households\n",
            "and many empty houses, such as vacation resorts.\n",
            "\n",
            "It can be downloaded/loaded using the\n",
            ":func:`sklearn.datasets.fetch_california_housing` function.\n",
            "\n",
            ".. topic:: References\n",
            "\n",
            "    - Pace, R. Kelley and Ronald Barry, Sparse Spatial Autoregressions,\n",
            "      Statistics and Probability Letters, 33 (1997) 291-297\n",
            "\n",
            "dict_keys(['data', 'target', 'frame', 'target_names', 'feature_names', 'DESCR'])\n",
            "(20640, 8)\n",
            "(20640,)\n"
          ]
        },
        {
          "output_type": "stream",
          "name": "stderr",
          "text": [
            "/usr/local/lib/python3.7/dist-packages/ipykernel_launcher.py:4: DeprecationWarning: `np.int` is a deprecated alias for the builtin `int`. To silence this warning, use `int` by itself. Doing this will not modify any behavior and is safe. When replacing `np.int`, you may wish to use e.g. `np.int64` or `np.int32` to specify the precision. If you wish to review your current use, check the release note link for additional information.\n",
            "Deprecated in NumPy 1.20; for more details and guidance: https://numpy.org/devdocs/release/1.20.0-notes.html#deprecations\n",
            "  after removing the cwd from sys.path.\n"
          ]
        }
      ]
    },
    {
      "cell_type": "markdown",
      "metadata": {
        "id": "iNx4174W5xRg"
      },
      "source": [
        "Here is a function for calculating the 1-nearest neighbours"
      ]
    },
    {
      "cell_type": "code",
      "source": [
        "type(dataset), dataset.DESCR"
      ],
      "metadata": {
        "colab": {
          "base_uri": "https://localhost:8080/"
        },
        "id": "ut5lj4HsaTfp",
        "outputId": "be4c3d74-947f-4bdb-a5e8-f3065765369b"
      },
      "execution_count": 3,
      "outputs": [
        {
          "output_type": "execute_result",
          "data": {
            "text/plain": [
              "(sklearn.utils.Bunch,\n",
              " '.. _california_housing_dataset:\\n\\nCalifornia Housing dataset\\n--------------------------\\n\\n**Data Set Characteristics:**\\n\\n    :Number of Instances: 20640\\n\\n    :Number of Attributes: 8 numeric, predictive attributes and the target\\n\\n    :Attribute Information:\\n        - MedInc        median income in block group\\n        - HouseAge      median house age in block group\\n        - AveRooms      average number of rooms per household\\n        - AveBedrms     average number of bedrooms per household\\n        - Population    block group population\\n        - AveOccup      average number of household members\\n        - Latitude      block group latitude\\n        - Longitude     block group longitude\\n\\n    :Missing Attribute Values: None\\n\\nThis dataset was obtained from the StatLib repository.\\nhttps://www.dcc.fc.up.pt/~ltorgo/Regression/cal_housing.html\\n\\nThe target variable is the median house value for California districts,\\nexpressed in hundreds of thousands of dollars ($100,000).\\n\\nThis dataset was derived from the 1990 U.S. census, using one row per census\\nblock group. A block group is the smallest geographical unit for which the U.S.\\nCensus Bureau publishes sample data (a block group typically has a population\\nof 600 to 3,000 people).\\n\\nAn household is a group of people residing within a home. Since the average\\nnumber of rooms and bedrooms in this dataset are provided per household, these\\ncolumns may take surpinsingly large values for block groups with few households\\nand many empty houses, such as vacation resorts.\\n\\nIt can be downloaded/loaded using the\\n:func:`sklearn.datasets.fetch_california_housing` function.\\n\\n.. topic:: References\\n\\n    - Pace, R. Kelley and Ronald Barry, Sparse Spatial Autoregressions,\\n      Statistics and Probability Letters, 33 (1997) 291-297\\n')"
            ]
          },
          "metadata": {},
          "execution_count": 3
        }
      ]
    },
    {
      "cell_type": "code",
      "metadata": {
        "id": "07zpydQj1hIQ"
      },
      "source": [
        "def NN1(traindata, trainlabel, query):\n",
        "  diff  = traindata - query  # find the difference between features. Numpy automatically takes care of the size here \n",
        "  sq = diff*diff # square the differences\n",
        "  dist = sq.sum(1) # add up the squares\n",
        "  label = trainlabel[np.argmin(dist)] # our predicted label is the label of the training data which has the least distance from the query\n",
        "  return label\n",
        "\n",
        "def NN(traindata, trainlabel, testdata):\n",
        "  # we will run nearest neighbour for each sample in the test data \n",
        "  # and collect the predicted classes in an array using list comprehension\n",
        "  predlabel = np.array([NN1(traindata, trainlabel, i) for i in testdata])\n",
        "  return predlabel\n"
      ],
      "execution_count": 4,
      "outputs": []
    },
    {
      "cell_type": "markdown",
      "metadata": {
        "id": "03JktkfIGaje"
      },
      "source": [
        "We will also define a 'random classifier', which randomly allots labels to each sample"
      ]
    },
    {
      "cell_type": "code",
      "metadata": {
        "id": "fogWAtjyGhAH"
      },
      "source": [
        "def RandomClassifier(traindata, trainlabel, testdata):\n",
        "  # in reality, we don't need these arguments\n",
        "\n",
        "  classes = np.unique(trainlabel)\n",
        "  rints = rng.integers(low=0, high=len(classes), size=len(testdata))\n",
        "  predlabel = classes[rints]\n",
        "  return predlabel"
      ],
      "execution_count": 5,
      "outputs": []
    },
    {
      "cell_type": "markdown",
      "metadata": {
        "id": "1Hjf1KHs7fU5"
      },
      "source": [
        "Let us define a metric 'Accuracy' to see how good our learning algorithm is. Accuracy is the ratio of the number of correctly classified samples to the total number of samples. The higher the accuracy, the better the algorithm. "
      ]
    },
    {
      "cell_type": "code",
      "metadata": {
        "id": "ouuCqWU07bz-"
      },
      "source": [
        "def Accuracy(gtlabel, predlabel):\n",
        "  assert len(gtlabel)==len(predlabel), \"Length of the groundtruth labels and predicted labels should be the same\"\n",
        "  correct = (gtlabel==predlabel).sum() # count the number of times the groundtruth label is equal to the predicted label.\n",
        "  return correct/len(gtlabel)"
      ],
      "execution_count": 6,
      "outputs": []
    },
    {
      "cell_type": "markdown",
      "metadata": {
        "id": "4vJFwBFa9Klw"
      },
      "source": [
        "Let us make a function to split the dataset with the desired probability."
      ]
    },
    {
      "cell_type": "code",
      "metadata": {
        "id": "Ko0VzpSM2Tdi"
      },
      "source": [
        "def split(data, label, percent):\n",
        "  # generate a random number for each sample\n",
        "  rnd = rng.random(len(label))\n",
        "  split1 = rnd<percent\n",
        "  split2 = rnd>=percent\n",
        "  split1data = data[split1,:]\n",
        "  split1label = label[split1]\n",
        "  split2data = data[split2,:]\n",
        "  split2label = label[split2]\n",
        "  return split1data, split1label, split2data, split2label"
      ],
      "execution_count": 7,
      "outputs": []
    },
    {
      "cell_type": "markdown",
      "metadata": {
        "id": "AcK3LEAJ_LGC"
      },
      "source": [
        "We will reserve 20% of our dataset as the test set. We will not change this portion throughout our experiments"
      ]
    },
    {
      "cell_type": "code",
      "metadata": {
        "id": "bBZkHBLJ1iU-",
        "colab": {
          "base_uri": "https://localhost:8080/"
        },
        "outputId": "5959298b-01c9-4115-fbb4-8d0cd12e9762"
      },
      "source": [
        "testdata, testlabel, alltraindata, alltrainlabel = split(dataset.data, dataset.target, 20/100)\n",
        "print('Number of test samples = ', len(testlabel))\n",
        "print('Number of other samples = ', len(alltrainlabel))\n",
        "print('Percent of test data = ', len(testlabel)*100/len(dataset.target),'%')"
      ],
      "execution_count": 8,
      "outputs": [
        {
          "output_type": "stream",
          "name": "stdout",
          "text": [
            "Number of test samples =  4144\n",
            "Number of other samples =  16496\n",
            "Percent of test data =  20.07751937984496 %\n"
          ]
        }
      ]
    },
    {
      "cell_type": "markdown",
      "metadata": {
        "id": "a6Ss0Z6IAGNV"
      },
      "source": [
        "## Experiments with splits\n",
        "\n",
        "Let us reserve some of our train data as a validation set"
      ]
    },
    {
      "cell_type": "code",
      "metadata": {
        "id": "WFew2iry_7W7"
      },
      "source": [
        "traindata, trainlabel, valdata, vallabel = split(alltraindata, alltrainlabel, 75/100)"
      ],
      "execution_count": 9,
      "outputs": []
    },
    {
      "cell_type": "markdown",
      "metadata": {
        "id": "60hiu4clFN1i"
      },
      "source": [
        "What is the accuracy of our classifiers on the train dataset?"
      ]
    },
    {
      "cell_type": "code",
      "metadata": {
        "id": "DBlZDTHUFTZx",
        "colab": {
          "base_uri": "https://localhost:8080/"
        },
        "outputId": "ba497c45-e9d4-4bf2-9737-16baa155697e"
      },
      "source": [
        "trainpred = NN(traindata, trainlabel, traindata)\n",
        "trainAccuracy = Accuracy(trainlabel, trainpred)\n",
        "print(\"Train accuracy using nearest neighbour is \", trainAccuracy)\n",
        "\n",
        "trainpred = RandomClassifier(traindata, trainlabel, traindata)\n",
        "trainAccuracy = Accuracy(trainlabel, trainpred)\n",
        "print(\"Train accuracy using random classifier is \", trainAccuracy)"
      ],
      "execution_count": 10,
      "outputs": [
        {
          "output_type": "stream",
          "name": "stdout",
          "text": [
            "Train accuracy using nearest neighbour is  1.0\n",
            "Train accuracy using random classifier is  0.164375808538163\n"
          ]
        }
      ]
    },
    {
      "cell_type": "markdown",
      "source": [
        "## Interesting: See how train accuracy of nearest neighbour is 1 i.e. 100%. Ponder and Explain."
      ],
      "metadata": {
        "id": "tW_I-YuhbQqA"
      }
    },
    {
      "cell_type": "markdown",
      "metadata": {
        "id": "7h08-9gJDtSy"
      },
      "source": [
        "For nearest neighbour, the train accuracy is always 1. The accuracy of the random classifier is close to 1/(number of classes) which is 0.1666 in our case.\n",
        "\n",
        "Let us predict the labels for our validation set and get the accuracy"
      ]
    },
    {
      "cell_type": "code",
      "metadata": {
        "id": "4h7bXoW_2H3v",
        "colab": {
          "base_uri": "https://localhost:8080/"
        },
        "outputId": "d97170a1-9131-46bb-997c-f66deb6992f6"
      },
      "source": [
        "valpred = NN(traindata, trainlabel, valdata)\n",
        "valAccuracy = Accuracy(vallabel, valpred)\n",
        "print(\"Validation accuracy using nearest neighbour is \", valAccuracy)\n",
        "\n",
        "valpred = RandomClassifier(traindata, trainlabel, valdata)\n",
        "valAccuracy = Accuracy(vallabel, valpred)\n",
        "print(\"Validation accuracy using random classifier is \", valAccuracy)"
      ],
      "execution_count": 11,
      "outputs": [
        {
          "output_type": "stream",
          "name": "stdout",
          "text": [
            "Validation accuracy using nearest neighbour is  0.34108527131782945\n",
            "Validation accuracy using random classifier is  0.1688468992248062\n"
          ]
        }
      ]
    },
    {
      "cell_type": "markdown",
      "metadata": {
        "id": "py9bLguFEjfg"
      },
      "source": [
        "Validation accuracy of nearest neighbour is considerably less than its train accuracy while the validation accuracy of random classifier is the same. However, the validation accuracy of nearest neighbour is twice that of the random classifier. \n",
        "\n",
        "Now let us try another random split and check the validation accuracy"
      ]
    },
    {
      "cell_type": "code",
      "metadata": {
        "id": "ujm3cyYzEntE",
        "colab": {
          "base_uri": "https://localhost:8080/"
        },
        "outputId": "f46ff371-336b-4559-a739-42f1c5e206fc"
      },
      "source": [
        "traindata, trainlabel, valdata, vallabel = split(alltraindata, alltrainlabel, 75/100)\n",
        "valpred = NN(traindata, trainlabel, valdata)\n",
        "valAccuracy = Accuracy(vallabel, valpred)\n",
        "print(\"Validation accuracy of nearest neighbour is \", valAccuracy)"
      ],
      "execution_count": 12,
      "outputs": [
        {
          "output_type": "stream",
          "name": "stdout",
          "text": [
            "Validation accuracy of nearest neighbour is  0.34048257372654156\n"
          ]
        }
      ]
    },
    {
      "cell_type": "markdown",
      "metadata": {
        "id": "oSOx7U83EKie"
      },
      "source": [
        "You can run the above cell multiple times to try with different random splits. \n",
        "We notice that the accuracy is different for each run, but close together. \n",
        "\n",
        "Now let us compare it with the accuracy we get on the test dataset. "
      ]
    },
    {
      "cell_type": "code",
      "metadata": {
        "id": "PNEZ5ToYBEDW",
        "colab": {
          "base_uri": "https://localhost:8080/"
        },
        "outputId": "33cae336-0210-401b-cbb7-08dbb952ad1d"
      },
      "source": [
        "testpred = NN(alltraindata, alltrainlabel, testdata)\n",
        "testAccuracy = Accuracy(testlabel, testpred)\n",
        "print('Test accuracy is ', testAccuracy)"
      ],
      "execution_count": 13,
      "outputs": [
        {
          "output_type": "stream",
          "name": "stdout",
          "text": [
            "Test accuracy is  0.34917953667953666\n"
          ]
        }
      ]
    },
    {
      "cell_type": "markdown",
      "metadata": {
        "id": "w3dGD531K3gH"
      },
      "source": [
        "### Try it out for yourself and answer:\n",
        "1. How is the accuracy of the validation set affected if we increase the percentage of validation set? What happens when we reduce it?\n",
        "2. How does the size of the train and validation set affect how well we can predict the accuracy on the test set using the validation set?\n",
        "3. What do you think is a good percentage to reserve for the validation set so that thest two factors are balanced? \n",
        "\n",
        "Answer for both nearest neighbour and random classifier. You can note down the values for your experiments and plot a graph using  <a href=https://matplotlib.org/stable/gallery/lines_bars_and_markers/step_demo.html#sphx-glr-gallery-lines-bars-and-markers-step-demo-py>plt.plot<href>. Check also for extreme values for splits, like 99.9% or 0.1%"
      ]
    },
    {
      "cell_type": "code",
      "source": [],
      "metadata": {
        "id": "aKCSuNKQoSEc"
      },
      "execution_count": null,
      "outputs": []
    },
    {
      "cell_type": "markdown",
      "metadata": {
        "id": "PnYvkAZLQY7h"
      },
      "source": [
        "## Multiple Splits\n",
        "\n",
        "One way to get more accurate estimates for the test accuracy is by using <b>crossvalidation</b>. Here, we will try a simple version, where we do multiple train/val splits and take the average of validation accuracies as the test accuracy estimation. Here is a function for doing this. Note that this function will take a long time to execute. "
      ]
    },
    {
      "cell_type": "code",
      "metadata": {
        "id": "E4nGCUQXBTzo"
      },
      "source": [
        "# you can use this function for random classifier also\n",
        "def AverageAccuracy(alldata, alllabel, splitpercent, iterations, classifier=NN):\n",
        "  accuracy = 0\n",
        "  for ii in range(iterations):\n",
        "    traindata, trainlabel, valdata, vallabel = split(alldata, alllabel, splitpercent)\n",
        "    valpred = classifier(traindata, trainlabel, valdata)\n",
        "    accuracy += Accuracy(vallabel, valpred)\n",
        "  return accuracy/iterations # average of all accuracies"
      ],
      "execution_count": 14,
      "outputs": []
    },
    {
      "cell_type": "code",
      "metadata": {
        "id": "H3qtNar7Bbik",
        "colab": {
          "base_uri": "https://localhost:8080/"
        },
        "outputId": "ca4707f8-5c39-44b4-fbd5-73b0d325d94d"
      },
      "source": [
        "print('Average validation accuracy is ', AverageAccuracy(alltraindata, alltrainlabel, 75/100, 10, classifier=NN))\n",
        "testpred = NN(alltraindata, alltrainlabel, testdata)\n",
        "print('test accuracy is ',Accuracy(testlabel, testpred) )"
      ],
      "execution_count": 15,
      "outputs": [
        {
          "output_type": "stream",
          "name": "stdout",
          "text": [
            "Average validation accuracy is  0.33584635395170215\n",
            "test accuracy is  0.34917953667953666\n"
          ]
        }
      ]
    },
    {
      "cell_type": "markdown",
      "metadata": {
        "id": "33GIn4x5VH-d"
      },
      "source": [
        "This is a very simple way of doing cross-validation. There are many well-known algorithms for cross-validation, like k-fold cross-validation, leave-one-out etc. This will be covered in detail in a later module. For more information about cross-validation, check <a href=https://en.wikipedia.org/wiki/Cross-validation_(statistics)>Cross-validatioin (Wikipedia)</a>\n",
        "\n",
        "### Questions\n",
        "1. Does averaging the validation accuracy across multiple splits give more consistent results?\n",
        "2. Does it give more accurate estimate of test accuracy?\n",
        "3. What is the effect of the number of iterations on the estimate? Do we get a better estimate with higher iterations?\n",
        "4. Consider the results you got for the previous questions. Can we deal with a very small train dataset or validation dataset by increasing the iterations?\n"
      ]
    },
    {
      "cell_type": "code",
      "source": [],
      "metadata": {
        "id": "IVAHmqA_oTfv"
      },
      "execution_count": null,
      "outputs": []
    },
    {
      "cell_type": "markdown",
      "source": [
        "## Now let us see how augmentation affects accuracy. We will pick components from what we studied in the last module"
      ],
      "metadata": {
        "id": "UUft9G1acwlB"
      }
    },
    {
      "cell_type": "markdown",
      "source": [
        "we will experiment with MNIST dataset\n"
      ],
      "metadata": {
        "id": "XtU3AfVDkkYM"
      }
    },
    {
      "cell_type": "code",
      "source": [
        "import numpy as np\n",
        "import matplotlib.pyplot as plt\n",
        "from keras.datasets import mnist\n",
        "# set randomseed\n",
        "rng = np.random.default_rng(seed=42)\n",
        "from sklearn.utils.extmath import cartesian\n",
        "from skimage.transform import rotate, AffineTransform, warp\n",
        "import math\n",
        "\n",
        "#loading the dataset\n",
        "(train_X, train_y), (test_X, test_y) = mnist.load_data()\n",
        "\n",
        "print(train_X[0].shape,train_y[0])\n",
        "\n"
      ],
      "metadata": {
        "colab": {
          "base_uri": "https://localhost:8080/"
        },
        "id": "47HIwFsMkebm",
        "outputId": "4c342c60-093a-4c18-a798-0ce566e9140d"
      },
      "execution_count": 16,
      "outputs": [
        {
          "output_type": "stream",
          "name": "stdout",
          "text": [
            "Downloading data from https://storage.googleapis.com/tensorflow/tf-keras-datasets/mnist.npz\n",
            "11493376/11490434 [==============================] - 0s 0us/step\n",
            "11501568/11490434 [==============================] - 0s 0us/step\n",
            "(28, 28) 5\n"
          ]
        }
      ]
    },
    {
      "cell_type": "code",
      "source": [
        "train_X = train_X/255\n",
        "test_X = test_X/255\n",
        "\n",
        "#train_X[0].shape, train_X[0]"
      ],
      "metadata": {
        "id": "WW6ZGBcTkyXB"
      },
      "execution_count": 17,
      "outputs": []
    },
    {
      "cell_type": "code",
      "source": [
        "train_X = train_X[::1200,:,:].copy() # subsample. Otherwise it will take too long!\n",
        "train_y = train_y[::1200].copy() # do the same to the labels"
      ],
      "metadata": {
        "id": "64ATS9mtk_mA"
      },
      "execution_count": 18,
      "outputs": []
    },
    {
      "cell_type": "code",
      "metadata": {
        "id": "1WileBUqC404"
      },
      "source": [
        "## Augmentation functions:\n",
        "\n",
        "\n",
        "\n",
        "def augRotate(sample, angleconstraint):\n",
        "  if angleconstraint==0:\n",
        "    return sample\n",
        "\n",
        "  print(\"shape of sample before is:\", sample.shape)\n",
        "  print(\"len(sample.shape)\", len(sample.shape))\n",
        "  if len(sample.shape)==2:\n",
        "    sample = np.expand_dims(sample, 0)  # make sure the sample is 3 dimensional\n",
        "    print(\"shape of sample is:\", sample.shape)\n",
        "  angle = rng.random(len(sample)) # generate random numbers for angles\n",
        "  print(\"angle is:\", angle)\n",
        "  angle = (angle-0.5)*angleconstraint # make the random angle constrained\n",
        "  print(\"angle with constraint is:\", angle)\n",
        "  nsample = sample.copy() # preallocate the augmented array to make it faster\n",
        "  for ii in range(len(sample)):\n",
        "    nsample[ii] = rotate(sample[ii], angle[ii])\n",
        "  return np.squeeze(nsample) # take care if the input had only one sample.\n",
        "\n",
        "\n",
        "def NN1(traindata, trainlabel, query):\n",
        "  diff  = traindata - query  # find the difference between features. Numpy automatically takes care of the size here \n",
        "  sq = diff*diff # square the differences\n",
        "  dist = sq.sum(1) # add up the squares\n",
        "  label = trainlabel[np.argmin(dist)] # our predicted label is the label of the training data which has the least distance from the query\n",
        "  return label\n",
        "\n",
        "def NN(traindata, trainlabel, testdata):\n",
        "  # we will run nearest neighbour for each sample in the test data \n",
        "  # and collect the predicted classes in an array using list comprehension\n",
        "  traindata = traindata.reshape(-1, 28*28)\n",
        "  testdata = testdata.reshape(-1,28*28)\n",
        "  predlabel = np.array([NN1(traindata, trainlabel, i) for i in testdata])\n",
        "  return predlabel\n",
        "\n",
        "def Accuracy(gtlabel, predlabel):\n",
        "  assert len(gtlabel)==len(predlabel), \"Length of the groundtruth labels and predicted labels should be the same\"\n",
        "  correct = (gtlabel==predlabel).sum() # count the number of times the groundtruth label is equal to the predicted label.\n",
        "  return correct/len(gtlabel)"
      ],
      "execution_count": 19,
      "outputs": []
    },
    {
      "cell_type": "code",
      "source": [
        "def shear(sample, amount):\n",
        "  tform = AffineTransform(shear = amount) # create the shear transform\n",
        "  img = warp(sample, tform) # apply the shear\n",
        "  # this makes the digit off-center. Since all the images in the test set are centralized, we will do the same here\n",
        "  col = img.sum(0).nonzero()[0]\n",
        "  row = img.sum(1).nonzero()[0]\n",
        "  if len(col)>0 and len(row)>0:\n",
        "    xshift = int(sample.shape[0]/2 - (row[0]+row[-1])/2)\n",
        "    yshift = int(sample.shape[1]/2 - (col[0]+col[-1])/2)\n",
        "    img = np.roll(img, (xshift, yshift),(0,1))\n",
        "  return img\n",
        "\n",
        "def augShear(sample, shearconstraint):\n",
        "  if shearconstraint==0:\n",
        "    return sample\n",
        "  if len(sample.shape)==2:\n",
        "    sample = np.expand_dims(sample, 0)  # make sure the sample is 3 dimensional\n",
        "  amt = rng.random(len(sample)) # generate random numbers for shear\n",
        "  amt = (amt-0.5)*shearconstraint # make the random shear constrained\n",
        "  nsample = sample.copy() # preallocate the augmented array to make it faster\n",
        "  for ii in range(len(sample)):\n",
        "    nsample[ii] = shear(sample[ii], amt[ii])\n",
        "  return np.squeeze(nsample) # take care if the input had only one sample.\n",
        "\n",
        "\n"
      ],
      "metadata": {
        "id": "BIsZ_Q5LqWEs"
      },
      "execution_count": 20,
      "outputs": []
    },
    {
      "cell_type": "markdown",
      "source": [
        "In this lab, we will use the image pixels themselves as features, instead of extracting features. Each image has 28*28 pixels, so we will flatten them to 784 pixels to use as features. Note that this is very compute intensive and will take a long time.\n",
        "\n",
        "Let us check the baseline accuracy on the test set without any augmentations. We hope that adding augmentations will help us to get better results."
      ],
      "metadata": {
        "id": "vAFpOzQFj-2r"
      }
    },
    {
      "cell_type": "code",
      "source": [
        "testpred = NN(train_X, train_y, test_X)\n",
        "print('Baseline accuracy without augmentation is ', Accuracy(test_y, testpred))"
      ],
      "metadata": {
        "colab": {
          "base_uri": "https://localhost:8080/"
        },
        "id": "dPNdNyFVj4pX",
        "outputId": "d5039002-717f-4cd6-d6d2-a35bff82ce9b"
      },
      "execution_count": 21,
      "outputs": [
        {
          "output_type": "stream",
          "name": "stdout",
          "text": [
            "Baseline accuracy without augmentation is  0.6472\n"
          ]
        }
      ]
    },
    {
      "cell_type": "markdown",
      "source": [
        "Let us try to improve this accuracy using augmentations. When we create augmentations, we have to make sure that the changes reflect what will naturally occur in the dataset. For example, we should not add colour to our samples as an augmentation because they do not naturally occur. We should not also flip the images in MNIST, because flipped images have different meanings for digits."
      ],
      "metadata": {
        "id": "MckdgpPflSYh"
      }
    },
    {
      "cell_type": "markdown",
      "source": [
        "Let us augment the whole dataset and see if this improves the test accuracy"
      ],
      "metadata": {
        "id": "7aWfHHggmqu7"
      }
    },
    {
      "cell_type": "code",
      "source": [
        "# hyperparameters\n",
        "angleconstraint = 60\n",
        "naugmentations = 5\n",
        "\n",
        "# augment\n",
        "augdata = train_X # we include the original images also in the augmented dataset\n",
        "auglabel = train_y\n",
        "for ii in range(naugmentations):\n",
        "  augdata = np.concatenate((augdata, augRotate(train_X, angleconstraint))) # concatenate the augmented data to the set\n",
        "  auglabel = np.concatenate((auglabel, train_y))  # the labels don't change when we augment\n",
        "\n",
        "# check the test accuracy\n",
        "testpred = NN(augdata, auglabel, test_X)\n",
        "print('Accuracy after rotation augmentation is ', Accuracy(test_y, testpred))"
      ],
      "metadata": {
        "colab": {
          "base_uri": "https://localhost:8080/"
        },
        "id": "Kdn0TZ_tlMg3",
        "outputId": "27458203-e0e0-499f-8c9b-d01f4b0ad860"
      },
      "execution_count": 22,
      "outputs": [
        {
          "output_type": "stream",
          "name": "stdout",
          "text": [
            "shape of sample before is: (50, 28, 28)\n",
            "len(sample.shape) 3\n",
            "angle is: [0.77395605 0.43887844 0.85859792 0.69736803 0.09417735 0.97562235\n",
            " 0.7611397  0.78606431 0.12811363 0.45038594 0.37079802 0.92676499\n",
            " 0.64386512 0.82276161 0.4434142  0.22723872 0.55458479 0.06381726\n",
            " 0.82763117 0.6316644  0.75808774 0.35452597 0.97069802 0.89312112\n",
            " 0.7783835  0.19463871 0.466721   0.04380377 0.15428949 0.68304895\n",
            " 0.74476216 0.96750973 0.32582536 0.37045971 0.46955581 0.18947136\n",
            " 0.12992151 0.47570493 0.22690935 0.66981399 0.43715192 0.8326782\n",
            " 0.7002651  0.31236664 0.8322598  0.80476436 0.38747838 0.2883281\n",
            " 0.6824955  0.13975248]\n",
            "angle with constraint is: [ 16.43736291  -3.66729361  21.51587519  11.84208174 -24.34935913\n",
            "  28.5373411   15.66838212  17.16385832 -22.31318204  -2.97684373\n",
            "  -7.75211855  25.60589933   8.6319072   19.3656968   -3.39514807\n",
            " -16.36567669   3.27508722 -26.17096463  19.65787032   7.89986395\n",
            "  15.48526441  -8.72844191  28.24188146  23.58726728  16.70300982\n",
            " -18.32167753  -1.99673978 -27.37177405 -20.74263048  10.98293719\n",
            "  14.68572935  28.05058395 -10.45047851  -7.77241764  -1.82665132\n",
            " -18.63171845 -22.20470968  -1.45770443 -16.38543906  10.18883968\n",
            "  -3.77088487  19.96069176  12.01590612 -11.25800152  19.93558808\n",
            "  18.28586145  -6.75129726 -12.70031376  10.94973024 -21.61485098]\n",
            "shape of sample before is: (50, 28, 28)\n",
            "len(sample.shape) 3\n",
            "angle is: [0.1999082  0.00736227 0.78692438 0.66485086 0.70516538 0.78072903\n",
            " 0.45891578 0.5687412  0.139797   0.11453007 0.66840296 0.47109621\n",
            " 0.56523611 0.76499886 0.63471832 0.5535794  0.55920716 0.3039501\n",
            " 0.03081783 0.43671739 0.21458467 0.40852864 0.85340307 0.23393949\n",
            " 0.05830274 0.28138389 0.29359376 0.66191651 0.55703215 0.78389821\n",
            " 0.66431354 0.40638686 0.81402038 0.16697292 0.02271207 0.09004786\n",
            " 0.72235935 0.46187723 0.16127178 0.50104478 0.1523121  0.69632038\n",
            " 0.44615628 0.38102123 0.30151209 0.63028259 0.36181261 0.08764992\n",
            " 0.1180059  0.96189766]\n",
            "angle with constraint is: [-18.00550785 -29.55826381  17.21546265   9.8910514   12.30992272\n",
            "  16.84374186  -2.46505347   4.12447176 -21.61218011 -23.12819559\n",
            "  10.10417771  -1.73422763   3.91416639  15.89993144   8.0830992\n",
            "   3.21476404   3.55242964 -11.76299412 -28.15092993  -3.79695665\n",
            " -17.12491963  -5.48828138  21.2041844  -15.96363085 -26.5018355\n",
            " -13.11696648 -12.38437453   9.71499088   3.42192914  17.03389255\n",
            "   9.85881242  -5.61678831  18.84122308 -19.98162481 -28.63727561\n",
            " -24.59712835  13.34156104  -2.28736618 -20.32369326   0.06268651\n",
            " -20.86127384  11.7792225   -3.23062347  -7.13872643 -11.90927465\n",
            "   7.81695559  -8.29124337 -24.74100484 -22.91964587  27.71385987]\n",
            "shape of sample before is: (50, 28, 28)\n",
            "len(sample.shape) 3\n",
            "angle is: [0.90858069 0.69970713 0.26586996 0.96917638 0.7787509  0.71689019\n",
            " 0.4493615  0.27224156 0.09639096 0.9026024  0.45577629 0.20236336\n",
            " 0.30595662 0.57921957 0.17677278 0.85661428 0.75851953 0.71946296\n",
            " 0.43209304 0.62730884 0.58409797 0.6498466  0.08444432 0.4158074\n",
            " 0.04161417 0.49399082 0.32986121 0.14452419 0.10340297 0.58764457\n",
            " 0.17059297 0.92512012 0.58106114 0.3468698  0.59091549 0.02280387\n",
            " 0.95855921 0.48230344 0.78273523 0.08273    0.48665833 0.49070699\n",
            " 0.93782645 0.57172805 0.4734894  0.26697566 0.331569   0.5206724\n",
            " 0.43891146 0.02161208]\n",
            "angle with constraint is: [ 24.51484144  11.98242803 -14.04780231  28.15058264  16.72505424\n",
            "  13.01341135  -3.03830987 -13.66550629 -24.21654227  24.15614379\n",
            "  -2.65342261 -17.85819811 -11.64260255   4.75317414 -19.39363302\n",
            "  21.39685705  15.51117179  13.16777736  -4.07441761   7.63853044\n",
            "   5.04587813   8.99079609 -24.93334073  -5.05155587 -27.50314957\n",
            "  -0.36055085 -10.20832726 -21.32854867 -23.79582194   5.25867433\n",
            " -19.76442189  25.5072071    4.86366838  -9.18781173   5.45492949\n",
            " -28.63176774  27.51355279  -1.06179378  16.96411364 -25.0362\n",
            "  -0.80050015  -0.55758034  26.2695873    4.30368314  -1.59063594\n",
            " -13.98146021 -10.10586016   1.24034415  -3.66531238 -28.70327521]\n",
            "shape of sample before is: (50, 28, 28)\n",
            "len(sample.shape) 3\n",
            "angle is: [0.82629192 0.89616077 0.14024909 0.55403614 0.10857574 0.67224009\n",
            " 0.28123378 0.65942263 0.72699461 0.76864749 0.10774095 0.91601185\n",
            " 0.23021399 0.03741256 0.55485247 0.37092228 0.82978974 0.80825147\n",
            " 0.31713889 0.9528994  0.29091784 0.51505713 0.25596509 0.93604357\n",
            " 0.16460782 0.04491062 0.43509706 0.99237556 0.89167727 0.74860802\n",
            " 0.89079249 0.89344664 0.51885836 0.31592905 0.77201243 0.66166126\n",
            " 0.37365773 0.09446667 0.74678961 0.26246052 0.93681315 0.24097058\n",
            " 0.12275793 0.83111267 0.15328432 0.17926831 0.59938279 0.87456204\n",
            " 0.19643467 0.31032367]\n",
            "angle with constraint is: [ 19.57751545  23.76964631 -21.58505466   3.24216861 -23.48545553\n",
            "  10.33440558 -13.12597297   9.56535808  13.61967686  16.11884952\n",
            " -23.53554324  24.96071071 -16.18716055 -27.75524663   3.29114816\n",
            "  -7.74466297  19.78738459  18.49508832 -10.97166643  27.1739637\n",
            " -12.54492971   0.90342775 -14.64209457  26.1626142  -20.12353095\n",
            " -27.30536284  -3.8941764   29.54253384  23.50063598  14.91648117\n",
            "  23.44754945  23.60679838   1.13150162 -11.04425689  16.32074593\n",
            "   9.69967579  -7.58053627 -24.33199992  14.80737668 -14.25236904\n",
            "  26.20878903 -15.5417655  -22.63452406  19.86676033 -20.802941\n",
            " -19.24390151   5.96296749  22.47372245 -18.21392006 -11.38057963]\n",
            "shape of sample before is: (50, 28, 28)\n",
            "len(sample.shape) 3\n",
            "angle is: [0.77740484 0.97182643 0.50074119 0.1438975  0.01393629 0.22965603\n",
            " 0.13182222 0.67765867 0.1218325  0.50632993 0.69426244 0.58111661\n",
            " 0.19977565 0.80412453 0.71540713 0.738984   0.13105775 0.1237538\n",
            " 0.92756255 0.39757819 0.30094869 0.48858405 0.66286421 0.95562326\n",
            " 0.28644623 0.92480843 0.02485949 0.55519804 0.63397511 0.1058974\n",
            " 0.1403396  0.41911432 0.96623191 0.59604255 0.93302322 0.80436092\n",
            " 0.4673816  0.78476345 0.01783678 0.109144   0.82942861 0.79681709\n",
            " 0.23264074 0.53076959 0.60601582 0.86773895 0.60310716 0.41257157\n",
            " 0.37418404 0.42588209]\n",
            "angle with constraint is: [ 16.64429029  28.30958556   0.04447117 -21.36614985 -29.16382274\n",
            " -16.2206382  -22.09066693  10.65952042 -22.69004972   0.3797959\n",
            "  11.65574614   4.86699655 -18.0134609   18.24747157  12.92442778\n",
            "  14.33904023 -22.13653491 -22.57477178  25.65375306  -6.14530837\n",
            " -11.94307849  -0.68495728   9.77185277  27.33739542 -12.81322639\n",
            "  25.48850576 -28.50843052   3.31188254   8.0385067  -23.64615577\n",
            " -21.57962418  -4.85314084  27.97391473   5.76255319  25.9813933\n",
            "  18.26165494  -1.95710391  17.08580696 -28.92979296 -23.45136019\n",
            "  19.76571689  17.8090253  -16.04155548   1.84617544   6.36094924\n",
            "  22.06433723   6.18642944  -5.24570584  -7.5489574   -4.44707482]\n",
            "Accuracy after rotation augmentation is  0.6742\n"
          ]
        }
      ]
    },
    {
      "cell_type": "markdown",
      "source": [
        "The angle constraint is a hyperparameter which we have to tune using a validation set. (Here we are not doing that for time constraints). Let us try a grid search to find the best angle constraint."
      ],
      "metadata": {
        "id": "R6vwKYxNnjvS"
      }
    },
    {
      "cell_type": "code",
      "source": [
        "angleconstraints = [0,10,20,30,40,50,60,70,80,90] # the values we want to test\n",
        "accuracies = np.zeros(len(angleconstraints), dtype=np.float) # we will save the values here\n",
        "\n",
        "for ii in range(len(angleconstraints)):\n",
        "  # create the augmented dataset\n",
        "  augdata = train_X # we include the original images also in the augmented dataset\n",
        "  auglabel = train_y\n",
        "  for jj in range(naugmentations):\n",
        "    augdata = np.concatenate((augdata, augRotate(train_X, angleconstraints[ii]))) # concatenate the augmented data to the set\n",
        "    auglabel = np.concatenate((auglabel, train_y))  # the labels don't change when we augment\n",
        "\n",
        "  # check the test accuracy\n",
        "  testpred = NN(augdata, auglabel, test_X)\n",
        "  accuracies[ii] = Accuracy(test_y, testpred)\n",
        "  print('Accuracy after rotation augmentation constrained by ',angleconstraints[ii], ' is ', accuracies[ii], flush=True)"
      ],
      "metadata": {
        "colab": {
          "base_uri": "https://localhost:8080/"
        },
        "id": "2TuE7cTCnZ9g",
        "outputId": "86103ef2-41c0-4a1b-f4ca-f2e4e7697c73"
      },
      "execution_count": 24,
      "outputs": [
        {
          "output_type": "stream",
          "name": "stderr",
          "text": [
            "/usr/local/lib/python3.7/dist-packages/ipykernel_launcher.py:2: DeprecationWarning: `np.float` is a deprecated alias for the builtin `float`. To silence this warning, use `float` by itself. Doing this will not modify any behavior and is safe. If you specifically wanted the numpy scalar type, use `np.float64` here.\n",
            "Deprecated in NumPy 1.20; for more details and guidance: https://numpy.org/devdocs/release/1.20.0-notes.html#deprecations\n",
            "  \n"
          ]
        },
        {
          "output_type": "stream",
          "name": "stdout",
          "text": [
            "Accuracy after rotation augmentation constrained by  0  is  0.6472\n",
            "shape of sample before is: (50, 28, 28)\n",
            "len(sample.shape) 3\n",
            "angle is: [0.67185419 0.96058696 0.37091232 0.42508177 0.81212296 0.50576231\n",
            " 0.73657309 0.45970946 0.21549514 0.74520384 0.13115517 0.19858366\n",
            " 0.62682498 0.7472698  0.89468789 0.2725865  0.11072426 0.95604666\n",
            " 0.15442309 0.19766698 0.29132945 0.52939135 0.88282557 0.76054602\n",
            " 0.70815755 0.17518057 0.35768263 0.47840493 0.14742595 0.2734297\n",
            " 0.3083332  0.1272762  0.55023969 0.7050282  0.06993163 0.4811231\n",
            " 0.7822112  0.74799013 0.8150731  0.44824063 0.82055708 0.24075307\n",
            " 0.36081056 0.17635558 0.46748454 0.39206002 0.24092712 0.75178071\n",
            " 0.31384677 0.27280433]\n",
            "angle with constraint is: [ 1.71854189  4.60586963 -1.29087678 -0.74918232  3.12122961  0.05762315\n",
            "  2.36573093 -0.40290536 -2.84504858  2.45203843 -3.68844831 -3.01416336\n",
            "  1.26824983  2.472698    3.94687887 -2.27413503 -3.89275741  4.5604666\n",
            " -3.45576912 -3.02333018 -2.08670546  0.29391354  3.82825566  2.60546023\n",
            "  2.08157554 -3.24819432 -1.42317368 -0.21595074 -3.52574047 -2.26570298\n",
            " -1.91666796 -3.72723802  0.50239692  2.05028197 -4.30068369 -0.18876898\n",
            "  2.82211195  2.47990129  3.15073096 -0.51759367  3.20557083 -2.59246929\n",
            " -1.39189439 -3.23644424 -0.32515461 -1.07939978 -2.59072884  2.51780709\n",
            " -1.86153228 -2.2719567 ]\n",
            "shape of sample before is: (50, 28, 28)\n",
            "len(sample.shape) 3\n",
            "angle is: [0.13089033 0.4388217  0.30296463 0.36927284 0.23599726 0.76315549\n",
            " 0.93000335 0.49793185 0.64299842 0.86717228 0.99882964 0.61351648\n",
            " 0.88977947 0.90860825 0.79145149 0.46093139 0.081154   0.01580556\n",
            " 0.47720063 0.49431453 0.40736239 0.56816735 0.5521627  0.83661304\n",
            " 0.1086571  0.22517767 0.79300498 0.84783687 0.99482421 0.87291202\n",
            " 0.88989901 0.31434794 0.40166163 0.2680851  0.6062994  0.93880535\n",
            " 0.34464089 0.55700178 0.29629963 0.16979997 0.19518553 0.05794534\n",
            " 0.94929352 0.40287961 0.83412089 0.68132947 0.19192116 0.17546225\n",
            " 0.8119882  0.26471171]\n",
            "angle with constraint is: [-3.69109669 -0.61178298 -1.97035371 -1.30727159 -2.64002737  2.6315549\n",
            "  4.30003347 -0.02068147  1.42998423  3.67172277  4.98829637  1.13516485\n",
            "  3.89779467  4.08608247  2.91451488 -0.39068609 -4.18846    -4.84194445\n",
            " -0.22799367 -0.05685466 -0.92637612  0.68167351  0.52162703  3.36613041\n",
            " -3.91342897 -2.74822334  2.93004979  3.47836867  4.94824214  3.72912016\n",
            "  3.89899007 -1.85652057 -0.98338366 -2.31914895  1.06299398  4.38805354\n",
            " -1.55359113  0.57001782 -2.0370037  -3.30200026 -3.0481447  -4.42054655\n",
            "  4.49293523 -0.97120391  3.34120892  1.81329473 -3.08078839 -3.24537753\n",
            "  3.11988202 -2.35288289]\n",
            "shape of sample before is: (50, 28, 28)\n",
            "len(sample.shape) 3\n",
            "angle is: [0.91328518 0.1400554  0.67770861 0.81447388 0.23525639 0.27620736\n",
            " 0.96451889 0.26459761 0.42995705 0.43251559 0.25303475 0.77579109\n",
            " 0.77184934 0.37831801 0.83512579 0.21307493 0.00430578 0.57116736\n",
            " 0.99407777 0.03864431 0.20799807 0.51891464 0.80994074 0.08904201\n",
            " 0.39523465 0.7470758  0.37154321 0.18883642 0.19549583 0.41004879\n",
            " 0.47941707 0.86181442 0.64225242 0.69040195 0.98298717 0.41184344\n",
            " 0.4033544  0.92334697 0.24587559 0.72981525 0.75457314 0.097788\n",
            " 0.46823141 0.20056247 0.18537527 0.46382811 0.28942971 0.79606045\n",
            " 0.90760489 0.80272061]\n",
            "angle with constraint is: [ 4.13285184 -3.59944595  1.77708614  3.14473876 -2.64743612 -2.23792637\n",
            "  4.64518886 -2.35402395 -0.7004295  -0.67484407 -2.4696525   2.75791086\n",
            "  2.71849343 -1.21681986  3.35125791 -2.86925066 -4.95694224  0.71167362\n",
            "  4.94077772 -4.6135569  -2.92001926  0.18914642  3.09940736 -4.10957995\n",
            " -1.04765346  2.47075801 -1.28456792 -3.1116358  -3.04504173 -0.89951213\n",
            " -0.20582925  3.61814418  1.42252419  1.90401955  4.82987172 -0.8815656\n",
            " -0.96645597  4.23346968 -2.54124413  2.29815246  2.54573138 -4.02212003\n",
            " -0.31768594 -2.99437529 -3.14624727 -0.3617189  -2.10570292  2.96060448\n",
            "  4.07604891  3.02720605]\n",
            "shape of sample before is: (50, 28, 28)\n",
            "len(sample.shape) 3\n",
            "angle is: [0.26603087 0.27413439 0.25472835 0.1350381  0.94379837 0.4020478\n",
            " 0.22468947 0.84667105 0.3991953  0.03511681 0.16194157 0.63925034\n",
            " 0.78290527 0.21093439 0.91739559 0.85099712 0.84838075 0.22766115\n",
            " 0.05053599 0.86742354 0.30580023 0.61891638 0.75996688 0.12829326\n",
            " 0.78083835 0.93851146 0.72837497 0.44122275 0.87667814 0.52745763\n",
            " 0.74477093 0.82050594 0.74935286 0.28785488 0.1178439  0.23833853\n",
            " 0.50287494 0.50527692 0.58264435 0.39510184 0.78689138 0.91315375\n",
            " 0.24672505 0.73652322 0.67797185 0.5230905  0.18853023 0.79523226\n",
            " 0.96062629 0.72183633]\n",
            "angle with constraint is: [-2.33969127 -2.25865606 -2.4527165  -3.64961904  4.43798368 -0.97952202\n",
            " -2.75310525  3.46671051 -1.00804697 -4.64883189 -3.3805843   1.3925034\n",
            "  2.82905274 -2.89065612  4.17395589  3.5099712   3.48380754 -2.72338853\n",
            " -4.49464011  3.67423539 -1.94199771  1.18916381  2.59966884 -3.71706741\n",
            "  2.80838355  4.38511459  2.28374966 -0.58777252  3.76678139  0.2745763\n",
            "  2.44770928  3.20505944  2.49352862 -2.12145124 -3.82156099 -2.61661471\n",
            "  0.02874937  0.05276922  0.82644349 -1.04898162  2.86891381  4.1315375\n",
            " -2.53274947  2.36523218  1.77971853  0.23090499 -3.11469766  2.95232259\n",
            "  4.60626286  2.21836332]\n",
            "shape of sample before is: (50, 28, 28)\n",
            "len(sample.shape) 3\n",
            "angle is: [0.91786    0.98418526 0.35205067 0.63822355 0.47393274 0.98662875\n",
            " 0.09380782 0.41237491 0.87553904 0.28405131 0.78779285 0.38278316\n",
            " 0.97997854 0.88352984 0.30132036 0.77019311 0.33685654 0.60636284\n",
            " 0.65848077 0.82959541 0.02445084 0.22015789 0.71191781 0.56352324\n",
            " 0.49560508 0.05520996 0.34827588 0.86510023 0.03089284 0.39643624\n",
            " 0.94514829 0.05088073 0.74970575 0.25761262 0.86660883 0.74606798\n",
            " 0.88570517 0.21592479 0.53129275 0.77926994 0.24569974 0.23074631\n",
            " 0.02718213 0.95851529 0.71001688 0.63556035 0.74399472 0.53161292\n",
            " 0.47613382 0.44953224]\n",
            "angle with constraint is: [ 4.17859997  4.84185265 -1.47949326  1.38223553 -0.26067262  4.86628747\n",
            " -4.06192176 -0.87625086  3.75539045 -2.15948689  2.87792851 -1.17216837\n",
            "  4.7997854   3.83529836 -1.98679642  2.70193114 -1.63143456  1.0636284\n",
            "  1.58480768  3.29595409 -4.75549159 -2.79842109  2.11917811  0.63523237\n",
            " -0.04394922 -4.44790043 -1.51724117  3.65100232 -4.69107163 -1.03563765\n",
            "  4.45148288 -4.49119265  2.49705751 -2.42387384  3.66608832  2.46067979\n",
            "  3.85705171 -2.8407521   0.31292755  2.79269944 -2.54300257 -2.69253695\n",
            " -4.72817867  4.58515294  2.1001688   1.35560354  2.43994723  0.31612919\n",
            " -0.23866179 -0.50467759]\n",
            "Accuracy after rotation augmentation constrained by  10  is  0.6741\n",
            "shape of sample before is: (50, 28, 28)\n",
            "len(sample.shape) 3\n",
            "angle is: [0.64043921 0.20153498 0.8880587  0.81175237 0.34956361 0.5786093\n",
            " 0.1410273  0.97234625 0.90289269 0.92189751 0.33216305 0.16913471\n",
            " 0.21177216 0.09000139 0.12011063 0.07130453 0.98982307 0.07405768\n",
            " 0.13254208 0.8272546  0.58024022 0.7744172  0.63091201 0.88217507\n",
            " 0.63846753 0.52212509 0.71274969 0.44739275 0.34606382 0.46765245\n",
            " 0.16971411 0.79657173 0.26070378 0.15353155 0.24635224 0.84207015\n",
            " 0.3302013  0.68604987 0.85640963 0.07774467 0.76502441 0.30766547\n",
            " 0.21662236 0.68890145 0.90979662 0.29501921 0.56883381 0.28983411\n",
            " 0.55428559 0.62186203]\n",
            "angle with constraint is: [ 2.80878424 -5.96930049  7.7611739   6.23504742 -3.00872777  1.57218594\n",
            " -7.179454    9.44692496  8.05785375  8.43795013 -3.35673905 -6.61730585\n",
            " -5.76455673 -8.19997218 -7.5977874  -8.57390932  9.79646138 -8.51884633\n",
            " -7.34915838  6.54509191  1.60480433  5.48834409  2.61824016  7.64350141\n",
            "  2.76935056  0.44250186  4.25499388 -1.05214496 -3.07872354 -0.64695095\n",
            " -6.6057179   5.9314346  -4.78592437 -6.92936907 -5.07295516  6.84140304\n",
            " -3.39597409  3.72099739  7.12819261 -8.44510666  5.3004881  -3.84669067\n",
            " -5.66755272  3.77802905  8.19593245 -4.09961583  1.37667611 -4.20331772\n",
            "  1.08571171  2.43724061]\n",
            "shape of sample before is: (50, 28, 28)\n",
            "len(sample.shape) 3\n",
            "angle is: [6.10335389e-01 6.23546370e-01 1.35079792e-01 6.93540470e-01\n",
            " 6.74750356e-01 6.82588122e-01 7.40705527e-02 4.46838842e-01\n",
            " 4.09035132e-01 8.67114836e-02 2.22367928e-01 4.40962632e-01\n",
            " 7.42906310e-01 2.37062077e-01 8.29749910e-01 5.45798286e-01\n",
            " 7.60421685e-01 4.72555983e-01 4.99194225e-01 6.19719389e-01\n",
            " 9.27970608e-01 4.91812581e-01 5.28657538e-01 6.01996964e-01\n",
            " 7.37515137e-01 7.18503355e-02 5.15687439e-01 4.81591589e-01\n",
            " 9.21684984e-01 4.93506580e-01 4.68320535e-01 9.62199989e-01\n",
            " 4.50576464e-01 1.80884430e-01 2.16916123e-01 9.51875383e-02\n",
            " 5.68129259e-04 4.31945661e-01 7.69242581e-01 7.33466443e-01\n",
            " 3.21490878e-02 5.69982904e-01 1.54283125e-01 9.41076285e-01\n",
            " 1.67365000e-01 6.26639218e-01 3.26238362e-01 6.41561326e-01\n",
            " 4.12258596e-01 7.59643052e-01]\n",
            "angle with constraint is: [ 2.20670778  2.47092739 -7.29840416  3.87080939  3.49500713  3.65176244\n",
            " -8.51858895 -1.06322315 -1.81929736 -8.26577033 -5.55264144 -1.18074736\n",
            "  4.8581262  -5.25875846  6.5949982   0.91596571  5.2084337  -0.54888033\n",
            " -0.01611549  2.39438779  8.55941216 -0.16374837  0.57315076  2.03993927\n",
            "  4.75030275 -8.56299329  0.31374877 -0.36816822  8.43369968 -0.12986839\n",
            " -0.63358931  9.24399977 -0.98847073 -6.38231139 -5.66167754 -8.09624923\n",
            " -9.98863741 -1.36108678  5.38485163  4.66932886 -9.35701824  1.39965807\n",
            " -6.91433749  8.8215257  -6.65270001  2.53278435 -3.47523276  2.83122652\n",
            " -1.75482807  5.19286105]\n",
            "shape of sample before is: (50, 28, 28)\n",
            "len(sample.shape) 3\n",
            "angle is: [0.23067913 0.90579185 0.50020965 0.75609315 0.84973019 0.99882861\n",
            " 0.22394567 0.28689241 0.25043309 0.26287133 0.58244474 0.99352252\n",
            " 0.99027809 0.52677323 0.63902721 0.85997054 0.93293346 0.20386063\n",
            " 0.52854173 0.83283705 0.30320208 0.43980904 0.9856211  0.9850467\n",
            " 0.90610681 0.79844834 0.2691305  0.32085007 0.54728284 0.56077737\n",
            " 0.50550282 0.63667028 0.40832302 0.74917416 0.33354993 0.330677\n",
            " 0.12722596 0.18871221 0.85052088 0.44628234 0.22786779 0.7593411\n",
            " 0.55398113 0.02115601 0.31636146 0.17700141 0.65587286 0.27503104\n",
            " 0.06494678 0.05493499]\n",
            "angle with constraint is: [-5.38641749e+00  8.11583706e+00  4.19298627e-03  5.12186295e+00\n",
            "  6.99460383e+00  9.97657222e+00 -5.52108669e+00 -4.26215173e+00\n",
            " -4.99133827e+00 -4.74257336e+00  1.64889483e+00  9.87045046e+00\n",
            "  9.80556174e+00  5.35464627e-01  2.78054421e+00  7.19941087e+00\n",
            "  8.65866917e+00 -5.92278745e+00  5.70834579e-01  6.65674109e+00\n",
            " -3.93595847e+00 -1.20381915e+00  9.71242203e+00  9.70093393e+00\n",
            "  8.12213622e+00  5.96896690e+00 -4.61738999e+00 -3.58299852e+00\n",
            "  9.45656824e-01  1.21554749e+00  1.10056387e-01  2.73340560e+00\n",
            " -1.83353955e+00  4.98348315e+00 -3.32900147e+00 -3.38646006e+00\n",
            " -7.45548076e+00 -6.22575580e+00  7.01041758e+00 -1.07435323e+00\n",
            " -5.44264427e+00  5.18682200e+00  1.07962252e+00 -9.57687977e+00\n",
            " -3.67277085e+00 -6.45997178e+00  3.11745722e+00 -4.49937919e+00\n",
            " -8.70106442e+00 -8.90130022e+00]\n",
            "shape of sample before is: (50, 28, 28)\n",
            "len(sample.shape) 3\n",
            "angle is: [0.5817273  0.02172346 0.84879211 0.15539712 0.60656634 0.44468803\n",
            " 0.44285152 0.07179714 0.80275225 0.89305248 0.01101667 0.17860418\n",
            " 0.90390419 0.54949361 0.15003958 0.20279045 0.65998624 0.72481682\n",
            " 0.59942681 0.95314838 0.4940636  0.30027191 0.47723291 0.35966629\n",
            " 0.22441589 0.04596325 0.35221249 0.71140935 0.0184378  0.43917851\n",
            " 0.6440094  0.61040411 0.77664844 0.81051972 0.71170582 0.1027977\n",
            " 0.47502244 0.60340596 0.24556604 0.04255182 0.22359032 0.4548944\n",
            " 0.41393032 0.17666698 0.82441554 0.92568667 0.20134832 0.92957292\n",
            " 0.01786096 0.92496247]\n",
            "angle with constraint is: [ 1.63454596 -9.56553089  6.97584226 -6.89205761  2.1313267  -1.10623944\n",
            " -1.14296958 -8.56405715  6.055045    7.8610497  -9.77966665 -6.42791649\n",
            "  8.07808378  0.98987226 -6.99920844 -5.94419095  3.19972488  4.49633644\n",
            "  1.98853617  9.0629676  -0.11872793 -3.99456176 -0.4553418  -2.80667413\n",
            " -5.51168215 -9.08073501 -2.95575013  4.22818695 -9.63124394 -1.21642974\n",
            "  2.88018803  2.20808218  5.53296872  6.21039431  4.23411642 -7.94404608\n",
            " -0.49955112  2.06811915 -5.08867922 -9.14896365 -5.52819358 -0.90211197\n",
            " -1.72139362 -6.46666037  6.48831085  8.51373337 -5.97303362  8.59145831\n",
            " -9.64278082  8.49924945]\n",
            "shape of sample before is: (50, 28, 28)\n",
            "len(sample.shape) 3\n",
            "angle is: [0.95192879 0.01205186 0.7630193  0.97020157 0.90590222 0.97071016\n",
            " 0.55032351 0.07815614 0.8497892  0.61382826 0.61473674 0.41725361\n",
            " 0.57184198 0.15357978 0.73977003 0.07501731 0.72978077 0.84897842\n",
            " 0.47246868 0.50983037 0.31221427 0.96945858 0.73312447 0.36898855\n",
            " 0.17480739 0.21957959 0.46392229 0.9425684  0.73414635 0.21524375\n",
            " 0.85956113 0.37820052 0.85172218 0.2416996  0.61866061 0.92667049\n",
            " 0.25789401 0.69292659 0.98731262 0.15059829 0.08840229 0.67419519\n",
            " 0.33973595 0.07124448 0.47530562 0.75377068 0.2851224  0.33504688\n",
            " 0.8456994  0.52007191]\n",
            "angle with constraint is: [ 9.0385758  -9.75896274  5.26038594  9.40403145  8.11804438  9.41420322\n",
            "  1.00647011 -8.4368772   6.99578396  2.27656512  2.29473488 -1.6549278\n",
            "  1.43683953 -6.92840442  4.79540053 -8.49965385  4.59561534  6.97956845\n",
            " -0.55062645  0.19660732 -3.75571454  9.38917167  4.66248949 -2.62022893\n",
            " -6.50385228 -5.60840816 -0.72155428  8.85136801  4.68292692 -5.69512504\n",
            "  7.19122267 -2.43598954  7.03444366 -5.16600804  2.37321224  8.53340976\n",
            " -4.84211982  3.85853181  9.7462524  -6.98803426 -8.23195419  3.48390385\n",
            " -3.20528105 -8.57511045 -0.49388764  5.07541359 -4.29755199 -3.29906245\n",
            "  6.91398801  0.40143825]\n",
            "Accuracy after rotation augmentation constrained by  20  is  0.6805\n",
            "shape of sample before is: (50, 28, 28)\n",
            "len(sample.shape) 3\n",
            "angle is: [0.84273197 0.44638949 0.95297516 0.65079459 0.11589887 0.88509299\n",
            " 0.48926519 0.14163897 0.15269013 0.68753394 0.04737251 0.28659376\n",
            " 0.13978759 0.44107743 0.41435377 0.52187643 0.27963633 0.03204359\n",
            " 0.61438611 0.373718   0.651335   0.10866697 0.01377736 0.24829425\n",
            " 0.45654732 0.39407197 0.81030256 0.37783764 0.53044118 0.59351559\n",
            " 0.02183139 0.51513338 0.34483126 0.42128013 0.1002874  0.78282057\n",
            " 0.94240425 0.02226882 0.60137276 0.76384407 0.28480759 0.78755558\n",
            " 0.63235505 0.92916263 0.98100481 0.04234611 0.44493776 0.54698779\n",
            " 0.14674323 0.33628583]\n",
            "angle with constraint is: [ 10.28195906  -1.60831524  13.58925485   4.52383769 -11.52303404\n",
            "  11.55278965  -0.32204428 -10.75083096 -10.41929598   5.62601805\n",
            " -13.5788248   -6.40218705 -10.80637229  -1.76767711  -2.56938684\n",
            "   0.65629304  -6.61091013 -14.03869232   3.4315832   -3.78845991\n",
            "   4.54004996 -11.73999088 -14.58667934  -7.55117256  -1.30358031\n",
            "  -3.17784077   9.30907666  -3.66487067   0.91323539   2.80546777\n",
            " -14.34505825   0.45400131  -4.65506222  -2.36159617 -11.99137805\n",
            "   8.48461697  13.27212752 -14.33193538   3.04118288   7.91532202\n",
            "  -6.45577234   8.62666755   3.97065152  12.87487897  14.43014434\n",
            " -13.72961658  -1.65186717   1.40963363 -10.597703    -4.91142509]\n",
            "shape of sample before is: (50, 28, 28)\n",
            "len(sample.shape) 3\n",
            "angle is: [0.98764745 0.01623046 0.45250793 0.84265462 0.32390126 0.4797985\n",
            " 0.97804575 0.47487684 0.13092131 0.05172149 0.94541657 0.26580941\n",
            " 0.50406391 0.09070177 0.42365512 0.93010552 0.50241299 0.97113515\n",
            " 0.25883564 0.50454524 0.85953079 0.44825235 0.27948737 0.85547536\n",
            " 0.38988947 0.53072329 0.97652707 0.18648329 0.30140064 0.0310696\n",
            " 0.39183771 0.20018343 0.68003494 0.18132146 0.67481275 0.26347543\n",
            " 0.35521783 0.34886065 0.71675175 0.46650926 0.3612989  0.85262272\n",
            " 0.57195063 0.21383082 0.90009128 0.3426503  0.03897938 0.49460022\n",
            " 0.12393805 0.23846644]\n",
            "angle with constraint is: [ 14.62942343 -14.51308631  -1.42476205  10.27963865  -5.28296212\n",
            "  -0.60604492  14.34137237  -0.75369491 -11.07236064 -13.44835525\n",
            "  13.36249717  -7.0257176    0.1219172  -12.27894702  -2.29034638\n",
            "  12.90316558   0.07238981  14.13405455  -7.23493088   0.13635719\n",
            "  10.78592375  -1.55242936  -6.61537879  10.6642609   -3.30331593\n",
            "   0.92169873  14.29581199  -9.40550116  -5.9579809  -14.067912\n",
            "  -3.2448687   -8.99449708   5.40104806  -9.56035624   5.24438257\n",
            "  -7.09573715  -4.34346498  -4.53418044   6.5025525   -1.00472211\n",
            "  -4.16103303  10.57868157   2.15851877  -8.58507536  12.00273834\n",
            "  -4.72049112 -13.83061867  -0.16199328 -11.28185837  -7.84600669]\n",
            "shape of sample before is: (50, 28, 28)\n",
            "len(sample.shape) 3\n",
            "angle is: [0.74711087 0.13075181 0.80694422 0.93690729 0.6065321  0.71035919\n",
            " 0.71358661 0.99280796 0.34153826 0.16285655 0.51916723 0.53324981\n",
            " 0.17791249 0.61310942 0.01412473 0.9276684  0.26457428 0.03956021\n",
            " 0.10824944 0.24024895 0.27390617 0.03281    0.27935481 0.19294174\n",
            " 0.37862093 0.38516774 0.33900774 0.32792388 0.08973128 0.02520495\n",
            " 0.2021143  0.75664943 0.99080977 0.92852618 0.50421936 0.53182386\n",
            " 0.31458157 0.77393944 0.76475669 0.84427236 0.89550458 0.43434925\n",
            " 0.76687557 0.80639873 0.30845962 0.92924224 0.0943415  0.99426918\n",
            " 0.77009072 0.09327091]\n",
            "angle with constraint is: [  7.41332618 -11.0774456    9.20832673  13.10721864   3.19596301\n",
            "   6.31077576   6.4075983   14.78423872  -4.75385213 -10.11430346\n",
            "   0.57501705   0.99749429  -9.66262535   3.39328257 -14.576258\n",
            "  12.83005207  -7.06277167 -13.81319375 -11.75251676  -7.79253155\n",
            "  -6.78281494 -14.01570002  -6.61935563  -9.21174791  -3.64137218\n",
            "  -3.44496788  -4.82976778  -5.16228349 -12.30806167 -14.24385159\n",
            "  -8.936571     7.69948282  14.72429297  12.85578525   0.12658067\n",
            "   0.95471567  -5.56255293   8.21818316   7.94270064  10.32817073\n",
            "  11.86513732  -1.96952255   8.00626704   9.19196186  -5.74621133\n",
            "  12.87726732 -12.16975492  14.82807537   8.10272154 -12.20187284]\n",
            "shape of sample before is: (50, 28, 28)\n",
            "len(sample.shape) 3\n",
            "angle is: [0.65622965 0.03417941 0.77018695 0.79922292 0.60241025 0.85686039\n",
            " 0.09788328 0.27592384 0.41417752 0.04245795 0.44821609 0.26521346\n",
            " 0.39273501 0.42510263 0.87941173 0.27034097 0.89374313 0.42597096\n",
            " 0.32780772 0.50251205 0.41774329 0.25737231 0.50267932 0.15180173\n",
            " 0.35192994 0.56579022 0.41340824 0.82391236 0.25672176 0.96977158\n",
            " 0.78472202 0.96759303 0.83813655 0.14210393 0.52646009 0.16997852\n",
            " 0.81822735 0.58416215 0.26344931 0.92959897 0.11518605 0.5638624\n",
            " 0.72104055 0.05884854 0.59785603 0.81590122 0.06752731 0.51224297\n",
            " 0.25855718 0.66292445]\n",
            "angle with constraint is: [  4.68688944 -13.97461767   8.10560848   8.97668765   3.07230759\n",
            "  10.70581176 -12.06350159  -6.72228474  -2.57467435 -13.72626142\n",
            "  -1.55351737  -7.04359632  -3.21794964  -2.24692104  11.382352\n",
            "  -6.88977088  11.81229386  -2.22087106  -5.16576838   0.07536148\n",
            "  -2.46770141  -7.27883061   0.08037974 -10.44594801  -4.44210171\n",
            "   1.97370658  -2.59775267   9.71737083  -7.29834715  14.09314736\n",
            "   8.54166063  14.02779078  10.14409664 -10.73688222   0.79380272\n",
            "  -9.90064436   9.54682058   2.52486448  -7.09652057  12.88796916\n",
            " -11.5444184    1.9158721    6.63121664 -13.23454388   2.935681\n",
            "   9.47703646 -12.97418057   0.36728913  -7.24328466   4.88773355]\n",
            "shape of sample before is: (50, 28, 28)\n",
            "len(sample.shape) 3\n",
            "angle is: [0.11867737 0.93705143 0.89472858 0.18597442 0.32326588 0.58763497\n",
            " 0.71806234 0.44265602 0.15629132 0.10415149 0.99976534 0.45535212\n",
            " 0.87253175 0.482376   0.92235764 0.08775938 0.11401919 0.92963219\n",
            " 0.94749305 0.31471745 0.35516489 0.45245023 0.41616168 0.19004522\n",
            " 0.89837538 0.2533076  0.70527241 0.06715568 0.03875133 0.65373047\n",
            " 0.33901586 0.65545939 0.0940212  0.94985138 0.74851447 0.87626723\n",
            " 0.13647055 0.32016097 0.36834416 0.53717265 0.29686849 0.06063074\n",
            " 0.36887838 0.25454931 0.38592129 0.19695954 0.26189637 0.62695234\n",
            " 0.38815383 0.34538339]\n",
            "angle with constraint is: [-11.43967899  13.11154292  11.84185745  -9.4207674   -5.30202347\n",
            "   2.62904924   6.5418701   -1.72031955 -10.31126034 -11.87545519\n",
            "  14.99296011  -1.33943636  11.17595247  -0.52871986  12.67072916\n",
            " -12.36721852 -11.57942426  12.88896563  13.42479135  -5.55847658\n",
            "  -4.34505339  -1.42649295  -2.5151496   -9.29864352  11.95126152\n",
            "  -7.40077198   6.15817228 -12.98532967 -13.83746005   4.61191418\n",
            "  -4.82952427   4.66378178 -12.17936393  13.4955414    7.45543401\n",
            "  11.28801699 -10.90588338  -5.39517093  -3.94967507   1.11517945\n",
            "  -6.09394543 -13.18107773  -3.93364858  -7.36352056  -3.42236126\n",
            "  -9.09121372  -7.14310876   3.80857021  -3.35538496  -4.6384982 ]\n",
            "Accuracy after rotation augmentation constrained by  30  is  0.6796\n",
            "shape of sample before is: (50, 28, 28)\n",
            "len(sample.shape) 3\n",
            "angle is: [0.53390563 0.77186054 0.37886796 0.58751949 0.96620263 0.52198011\n",
            " 0.90979758 0.79367262 0.05871868 0.42909887 0.69831841 0.98671191\n",
            " 0.45837629 0.09278545 0.56200917 0.12656379 0.75151956 0.507677\n",
            " 0.72343137 0.86936183 0.62894802 0.61243933 0.7545703  0.842455\n",
            " 0.86905379 0.0364302  0.5561903  0.21626931 0.86034589 0.64839769\n",
            " 0.42022248 0.18810423 0.33902363 0.70377769 0.20435955 0.09358295\n",
            " 0.88802876 0.76421035 0.19979493 0.29231154 0.97207018 0.70818449\n",
            " 0.610522   0.30762849 0.29912514 0.03952362 0.72848187 0.04317523\n",
            " 0.00485734 0.72949509]\n",
            "angle with constraint is: [  1.35622531  10.87442163  -4.84528175   3.5007797   18.64810501\n",
            "   0.87920456  16.39190306  11.74690497 -17.65125273  -2.83604514\n",
            "   7.93273631  19.4684765   -1.66494835 -16.28858183   2.48036699\n",
            " -14.93744832  10.06078241   0.3070799    8.93725474  14.77447308\n",
            "   5.15792069   4.49757317  10.18281182  13.69820006  14.76215145\n",
            " -18.54279217   2.24761187 -11.34922761  14.41383563   5.93590741\n",
            "  -3.19110084 -12.47583088  -6.43905496   8.15110778 -11.82561819\n",
            " -16.25668219  15.52115033  10.56841398 -12.00820277  -8.30753826\n",
            "  18.88280709   8.32737947   4.42088017  -7.69486058  -8.03499423\n",
            " -18.41905525   9.13927468 -18.272991   -19.80570649   9.17980351]\n",
            "shape of sample before is: (50, 28, 28)\n",
            "len(sample.shape) 3\n",
            "angle is: [0.94887376 0.75650305 0.47164019 0.48604525 0.43613642 0.32464367\n",
            " 0.52171421 0.43115096 0.59816788 0.89812008 0.99500942 0.07874329\n",
            " 0.38468347 0.1807062  0.35212047 0.28747302 0.17453713 0.76407605\n",
            " 0.49628874 0.91924558 0.03259244 0.06697801 0.40327358 0.08027732\n",
            " 0.2627296  0.98602974 0.20895961 0.19811774 0.57364067 0.49799829\n",
            " 0.5804383  0.37673528 0.82676236 0.13858055 0.42839265 0.68976185\n",
            " 0.86823644 0.36957161 0.5677456  0.06913995 0.17031909 0.06913816\n",
            " 0.72788089 0.28805997 0.72374529 0.06639828 0.8625478  0.8355302\n",
            " 0.08892874 0.02375651]\n",
            "angle with constraint is: [ 17.95495029  10.26012191  -1.13439238  -0.55819002  -2.55454309\n",
            "  -7.01425332   0.86856857  -2.75396171   3.9267152   15.92480322\n",
            "  19.80037669 -16.8502684   -4.61266109 -12.77175217  -5.91518104\n",
            "  -8.50107926 -13.01851473  10.56304214  -0.14845029  16.76982329\n",
            " -18.69630227 -17.32087947  -3.86905668 -16.78890718  -9.49081614\n",
            "  19.44118972 -11.6416157  -12.07529034   2.94562675  -0.08006837\n",
            "   3.21753189  -4.93058887  13.0704944  -14.45677794  -2.86429417\n",
            "   7.59047394  14.72945761  -5.21713575   2.70982396 -17.2344022\n",
            " -13.18723648 -17.2344735    9.11523568  -8.47760125   8.94981161\n",
            " -17.34406884  14.50191202  13.42120792 -16.44285028 -19.04973974]\n",
            "shape of sample before is: (50, 28, 28)\n",
            "len(sample.shape) 3\n",
            "angle is: [0.05628881 0.85363017 0.23470349 0.54827332 0.4262442  0.79552553\n",
            " 0.4888983  0.50066084 0.98909194 0.15012956 0.83070394 0.05174975\n",
            " 0.47764877 0.88633482 0.66521397 0.68521462 0.26331728 0.41857479\n",
            " 0.36658106 0.52144321 0.46222793 0.32689835 0.30548061 0.25085289\n",
            " 0.36504725 0.14994148 0.8721043  0.60211939 0.13378643 0.69385933\n",
            " 0.84766647 0.23753567 0.15060059 0.00861726 0.04725034 0.76225135\n",
            " 0.98718633 0.04488032 0.74807096 0.07186217 0.59213282 0.75607528\n",
            " 0.3592044  0.01093472 0.59518935 0.99124463 0.25761742 0.18949128\n",
            " 0.12392589 0.55525562]\n",
            "angle with constraint is: [-17.74844748  14.14520693 -10.61186044   1.93093271  -2.95023187\n",
            "  11.82102105  -0.44406794   0.02643363  19.56367758 -13.99481773\n",
            "  13.22815755 -17.93001018  -0.89404922  15.45339296   6.60855862\n",
            "   7.40858477  -9.46730871  -3.25700835  -5.33675746   0.85772841\n",
            "  -1.51088279  -6.92406592  -7.78077551  -9.96588433  -5.39811012\n",
            " -14.00234088  14.88417208   4.08477567 -14.64854298   7.75437337\n",
            "  13.90665872 -10.49857312 -13.97597623 -19.65530971 -18.10998645\n",
            "  10.49005393  19.48745328 -18.2047871    9.92283836 -17.12551337\n",
            "   3.685313    10.2430113   -5.63182411 -19.56261116   3.80757409\n",
            "  19.64978513  -9.69530309 -12.42034891 -15.04296429   2.2102248 ]\n",
            "shape of sample before is: (50, 28, 28)\n",
            "len(sample.shape) 3\n",
            "angle is: [0.5964451  0.79227084 0.75307327 0.89254149 0.8057727  0.24726708\n",
            " 0.5558774  0.29741196 0.32978538 0.93194437 0.68189591 0.97459041\n",
            " 0.41691254 0.53743757 0.48711542 0.10728706 0.23670199 0.52763636\n",
            " 0.06737431 0.93146193 0.12384368 0.19798075 0.76532122 0.09693454\n",
            " 0.9002781  0.72570097 0.06862086 0.69184706 0.63162854 0.75734943\n",
            " 0.82819785 0.71835056 0.5861763  0.32246332 0.69727366 0.95697158\n",
            " 0.58752178 0.66434487 0.43712804 0.75612081 0.99766739 0.16038932\n",
            " 0.20240528 0.53943776 0.4813754  0.57156978 0.04907405 0.40427646\n",
            " 0.58297826 0.58519135]\n",
            "angle with constraint is: [  3.85780397  11.69083349  10.12293094  15.70165979  12.23090793\n",
            " -10.10931668   2.2350962   -8.10352164  -6.80858482  17.27777477\n",
            "   7.2758362   18.98361653  -3.32349853   1.49750293  -0.5153832\n",
            " -15.7085177  -10.53192022   1.10545442 -17.30502779  17.25847717\n",
            " -15.04625272 -12.08077014  10.61284896 -16.12261833  16.01112398\n",
            "   9.02803883 -17.25516572   7.67388245   5.26514169  10.29397731\n",
            "  13.1279141    8.73402253   3.44705181  -7.10146726   7.89094647\n",
            "  18.27886339   3.50087122   6.57379474  -2.51487831  10.24483239\n",
            "  19.90669569 -13.58442704 -11.90378882   1.57751035  -0.74498411\n",
            "   2.86279138 -18.03703809  -3.82894175   3.31913048   3.40765405]\n",
            "shape of sample before is: (50, 28, 28)\n",
            "len(sample.shape) 3\n",
            "angle is: [0.65733396 0.72021603 0.6415472  0.79024316 0.62476063 0.53750766\n",
            " 0.60619643 0.10119337 0.27315654 0.52739978 0.87298722 0.67905156\n",
            " 0.09040808 0.59227495 0.22173799 0.73401656 0.82744085 0.59345627\n",
            " 0.59136261 0.33859144 0.44625002 0.86410835 0.72332033 0.51975366\n",
            " 0.36823239 0.05037974 0.1430074  0.19302519 0.37338354 0.94414365\n",
            " 0.50515339 0.23484016 0.10575014 0.33830552 0.81573064 0.38334279\n",
            " 0.77250581 0.80270498 0.11082077 0.60865975 0.95909606 0.40213807\n",
            " 0.05094409 0.92330269 0.88366628 0.52214145 0.55225312 0.2117411\n",
            " 0.81945076 0.49860004]\n",
            "angle with constraint is: [  6.29335847   8.80864116   5.66188813  11.60972622   4.99042539\n",
            "   1.5003065    4.24785716 -15.95226533  -9.07373837   1.09599123\n",
            "  14.91948862   7.16206225 -16.38367686   3.69099802 -11.13048049\n",
            "   9.36066239  13.0976341    3.7382509    3.65450439  -6.45634227\n",
            "  -2.14999915  14.56433415   8.93281324   0.79014639  -5.27070455\n",
            " -17.98481047 -14.27970395 -12.27899242  -5.06465827  17.76574588\n",
            "   0.20613579 -10.60639347 -15.7699945   -6.46777902  12.62922542\n",
            "  -4.66628826  10.90023224  12.10819905 -15.56716921   4.34639011\n",
            "  18.36384253  -3.914477   -17.96223644  16.93210761  15.34665126\n",
            "   0.88565789   2.09012481 -11.53035589  12.77803022  -0.05599846]\n",
            "Accuracy after rotation augmentation constrained by  40  is  0.6766\n",
            "shape of sample before is: (50, 28, 28)\n",
            "len(sample.shape) 3\n",
            "angle is: [0.0338778  0.68301496 0.95049627 0.82915049 0.27719814 0.05332508\n",
            " 0.94035141 0.93706272 0.53241532 0.64231741 0.46260006 0.41976537\n",
            " 0.11944844 0.0967529  0.23273215 0.83664075 0.1458323  0.22669865\n",
            " 0.54861406 0.21513122 0.16320668 0.56331624 0.36809327 0.62615929\n",
            " 0.91220534 0.15099313 0.91343366 0.90248997 0.82908758 0.63128592\n",
            " 0.62014666 0.63921266 0.69049555 0.0164822  0.95809258 0.58560376\n",
            " 0.78146584 0.37728184 0.01239721 0.50973466 0.50719012 0.43698929\n",
            " 0.33971705 0.24982609 0.52754487 0.37527814 0.96993188 0.17292731\n",
            " 0.31966557 0.29396047]\n",
            "angle with constraint is: [-23.30611024   9.15074782  22.52481349  16.45752452 -11.14009299\n",
            " -22.33374575  22.01757063  21.85313624   1.62076599   7.11587058\n",
            "  -1.86999696  -4.01173165 -19.0275782  -20.16235508 -13.36339267\n",
            "  16.83203732 -17.70838496 -13.6650674    2.43070297 -14.2434391\n",
            " -16.83966576   3.16581208  -6.59533645   6.30796429  20.61026702\n",
            " -17.45034343  20.67168299  20.12449837  16.45437917   6.56429587\n",
            "   6.00733287   6.960633     9.52477756 -24.17588997  22.90462896\n",
            "   4.28018807  14.07329197  -6.13590805 -24.3801393    0.48673299\n",
            "   0.35950597  -3.15053558  -8.01414729 -12.50869561   1.37724372\n",
            "  -6.23609302  23.49659415 -16.35363461  -9.01672162 -10.30197645]\n",
            "shape of sample before is: (50, 28, 28)\n",
            "len(sample.shape) 3\n",
            "angle is: [0.54330918 0.49928026 0.64374047 0.95000177 0.28522109 0.69277157\n",
            " 0.0250402  0.26238847 0.46371973 0.03099479 0.61766946 0.67831061\n",
            " 0.74673171 0.5165745  0.60394466 0.39606525 0.04125303 0.09995186\n",
            " 0.65499592 0.9955553  0.01580324 0.5575835  0.75100875 0.82677483\n",
            " 0.5452049  0.61991598 0.69672495 0.85896625 0.12228954 0.9261822\n",
            " 0.0260174  0.83619975 0.07674043 0.19462821 0.00389415 0.44525671\n",
            " 0.33435923 0.16599291 0.45109016 0.40237088 0.76766103 0.89313031\n",
            " 0.65256725 0.12441039 0.29539079 0.9133183  0.08873449 0.40685584\n",
            " 0.94250462 0.95066484]\n",
            "angle with constraint is: [  2.16545881  -0.03598715   7.18702327  22.50008853 -10.73894573\n",
            "   9.63857846 -23.74798985 -11.88057636  -1.8140136  -23.45026058\n",
            "   5.88347303   8.91553042  12.33658574   0.82872524   5.19723325\n",
            "  -5.19673744 -22.93734837 -20.00240721   7.74979621  24.77776498\n",
            " -24.20983804   2.87917484  12.55043764  16.3387414    2.26024506\n",
            "   5.99579901   9.83624726  17.94831248 -18.88552314  21.30910981\n",
            " -23.69912982  16.80998755 -21.16297867 -15.26858942 -24.80529268\n",
            "  -2.73716472  -8.28203866 -16.70035443  -2.44549196  -4.88145584\n",
            "  13.38305163  19.6565153    7.62836259 -18.77948056 -10.23046026\n",
            "  20.66591484 -20.56327535  -4.65720803  22.12523096  22.53324207]\n",
            "shape of sample before is: (50, 28, 28)\n",
            "len(sample.shape) 3\n",
            "angle is: [0.41120318 0.66739689 0.4567456  0.75346054 0.03158133 0.14415715\n",
            " 0.6141988  0.23255226 0.6660523  0.35122293 0.88664556 0.81925939\n",
            " 0.4928378  0.77289509 0.27113789 0.49425978 0.19748205 0.86088617\n",
            " 0.82306762 0.90214967 0.87747698 0.95959626 0.22833623 0.93182429\n",
            " 0.57121319 0.42249508 0.5603739  0.34260236 0.28855301 0.24131434\n",
            " 0.08242799 0.4965649  0.88776168 0.63015197 0.52097563 0.42859292\n",
            " 0.46440163 0.20927735 0.82293588 0.19838296 0.71662276 0.75998501\n",
            " 0.57486904 0.86292637 0.29105035 0.88161722 0.72941046 0.79874983\n",
            " 0.66457971 0.84634302]\n",
            "angle with constraint is: [ -4.43984115   8.3698444   -2.16272008  12.67302697 -23.42093347\n",
            " -17.79214255   5.70994018 -13.37238688   8.30261496  -7.43885363\n",
            "  19.33227791  15.96296928  -0.35811     13.64475435 -11.44310569\n",
            "  -0.28701116 -15.12589741  18.04430843  16.15338083  20.10748342\n",
            "  18.87384906  22.9798131  -13.58318842  21.59121454   3.56065957\n",
            "  -3.8752458    3.0186948   -7.86988217 -10.57234965 -12.9342831\n",
            " -20.87860053  -0.17175514  19.38808379   6.50759846   1.04878164\n",
            "  -3.57035409  -1.77991868 -14.53613262  16.14679386 -15.08085184\n",
            "  10.83113784  12.99925057   3.7434521   18.14631875 -10.44748238\n",
            "  19.08086106  11.47052298  14.93749139   8.22898548  17.31715085]\n",
            "shape of sample before is: (50, 28, 28)\n",
            "len(sample.shape) 3\n",
            "angle is: [0.99309886 0.42016285 0.81391568 0.74457976 0.45287017 0.926949\n",
            " 0.39442593 0.56546592 0.10594236 0.22577519 0.84069617 0.39655272\n",
            " 0.39408409 0.24598102 0.49161033 0.80581696 0.89516412 0.07011443\n",
            " 0.57482073 0.46727337 0.61428185 0.44727569 0.39864482 0.47188071\n",
            " 0.58199913 0.50098321 0.47214445 0.81783531 0.74564799 0.34137849\n",
            " 0.80057712 0.85365067 0.15349221 0.58268246 0.28531199 0.73917232\n",
            " 0.23878533 0.67140352 0.25512466 0.51114376 0.94864647 0.38130754\n",
            " 0.87573849 0.98694458 0.87485085 0.16586603 0.81965822 0.0321494\n",
            " 0.39330188 0.87073337]\n",
            "angle with constraint is: [ 24.65494314  -3.99185727  15.69578419  12.22898798  -2.35649171\n",
            "  21.34744999  -5.27870352   3.27329581 -19.70288215 -13.7112403\n",
            "  17.03480853  -5.17236386  -5.29579553 -12.70094909  -0.41948329\n",
            "  15.29084807  19.75820589 -21.4942784    3.74103656  -1.63633161\n",
            "   5.71409252  -2.63621565  -5.06775896  -1.40596438   4.09995644\n",
            "   0.04916055  -1.39277745  15.8917655   12.28239956  -7.93107529\n",
            "  15.02885588  17.68253345 -17.32538973   4.13412309 -10.73440032\n",
            "  11.9586161  -13.06073353   8.57017621 -12.2437672    0.55718817\n",
            "  22.4323234   -5.93462308  18.7869243   24.34722906  18.74254244\n",
            " -16.70669851  15.98291098 -23.39253024  -5.33490582  18.53666867]\n",
            "shape of sample before is: (50, 28, 28)\n",
            "len(sample.shape) 3\n",
            "angle is: [0.68875221 0.53274043 0.38786403 0.81229695 0.7095584  0.46840532\n",
            " 0.89248434 0.22994802 0.17039151 0.64280376 0.97199434 0.24725657\n",
            " 0.24967038 0.13949885 0.86056356 0.22639754 0.50317853 0.99087248\n",
            " 0.0121409  0.55648609 0.51228904 0.80744738 0.35528154 0.41034136\n",
            " 0.16793798 0.74081523 0.78470891 0.13666332 0.39345707 0.892905\n",
            " 0.00270727 0.29875907 0.55504229 0.33409386 0.27204519 0.46003748\n",
            " 0.18152311 0.52962524 0.70669592 0.57529495 0.09310933 0.84440861\n",
            " 0.17497784 0.764812   0.36056511 0.78276135 0.2062729  0.1866621\n",
            " 0.49702585 0.03293601]\n",
            "angle with constraint is: [  9.43761064   1.63702137  -5.60679875  15.61484732  10.4779202\n",
            "  -1.57973402  19.62421686 -13.50259911 -16.48042454   7.14018822\n",
            "  23.59971714 -12.63717133 -12.51648105 -18.0250576   18.02817776\n",
            " -13.68012298   0.15892634  24.5436239  -24.39295495   2.82430453\n",
            "   0.61445214  15.37236882  -7.23592302  -4.48293206 -16.60310097\n",
            "  12.04076158  14.23544546 -18.16683396  -5.3271463   19.64524977\n",
            " -24.86463632 -10.06204647   2.75211425  -8.29530702 -11.39774054\n",
            "  -1.99812575 -15.92384459   1.48126205  10.33479607   3.76474763\n",
            " -20.34453346  17.22043071 -16.25110813  13.24060003  -6.97174446\n",
            "  14.1380674  -14.68635483 -15.66689482  -0.14870769 -23.35319927]\n",
            "Accuracy after rotation augmentation constrained by  50  is  0.6759\n",
            "shape of sample before is: (50, 28, 28)\n",
            "len(sample.shape) 3\n",
            "angle is: [0.22529734 0.72401225 0.83738348 0.08078536 0.88207771 0.7975172\n",
            " 0.8696843  0.69842855 0.67415307 0.52509323 0.65278722 0.91910966\n",
            " 0.100522   0.31576448 0.07245497 0.94480517 0.44526547 0.67534447\n",
            " 0.84112006 0.99100025 0.16178246 0.79951261 0.8874229  0.04887538\n",
            " 0.75409056 0.35472532 0.64859679 0.5140482  0.25974225 0.13522136\n",
            " 0.11694723 0.10332286 0.63779004 0.35141085 0.21663344 0.69188509\n",
            " 0.68684957 0.53916829 0.93495782 0.38541423 0.83586297 0.07513941\n",
            " 0.73983109 0.98844741 0.84659822 0.57966472 0.62676606 0.35328955\n",
            " 0.67948522 0.77039538]\n",
            "angle with constraint is: [-16.48215967  13.44073513  20.2430087  -25.15287816  22.92466257\n",
            "  17.85103224  22.18105774  11.90571327  10.44918404   1.505594\n",
            "   9.16723347  25.14657987 -23.96867991 -11.05413133 -25.65270158\n",
            "  26.68831032  -3.28407204  10.52066824  20.46720387  29.46001488\n",
            " -20.29305253  17.97075634  23.24537389 -27.06747739  15.24543361\n",
            "  -8.71648073   8.91580749   0.84289176 -14.41546487 -21.88671828\n",
            " -22.98316601 -23.80062854   8.26740241  -8.91534892 -17.00199371\n",
            "  11.51310556  11.21097395   2.35009754  26.09746901  -6.87514611\n",
            "  20.15177828 -25.49163552  14.38986564  29.30684483  20.79589298\n",
            "   4.77988316   7.60596386  -8.80262703  10.7691131   16.22372299]\n",
            "shape of sample before is: (50, 28, 28)\n",
            "len(sample.shape) 3\n",
            "angle is: [0.99822848 0.49246292 0.06130407 0.59585795 0.11902415 0.24476504\n",
            " 0.32877991 0.73102987 0.18380812 0.16575295 0.04496424 0.87323994\n",
            " 0.69350542 0.03994647 0.02829231 0.5586743  0.2825344  0.59672635\n",
            " 0.43460418 0.92331256 0.28780901 0.67914537 0.05405431 0.95586053\n",
            " 0.98075747 0.73907463 0.46521247 0.21999344 0.81251634 0.7363541\n",
            " 0.22195404 0.45121529 0.46279894 0.82641055 0.68384468 0.64316754\n",
            " 0.64982742 0.27047008 0.37171126 0.04566229 0.78694114 0.43299822\n",
            " 0.43823836 0.24535626 0.20942728 0.58782193 0.23255302 0.06420885\n",
            " 0.76750742 0.37646943]\n",
            "angle with constraint is: [ 29.89370887  -0.45222498 -26.32175605   5.75147704 -22.858551\n",
            " -15.31409739 -10.27320532  13.86179239 -18.97151257 -20.05482319\n",
            " -27.30214545  22.39439618  11.61032546 -27.60321206 -28.30246166\n",
            "   3.52045779 -13.04793592   5.80358103  -3.92374946  25.39875374\n",
            " -12.7314591   10.74872211 -26.7567413   27.35163205  28.84544807\n",
            "  14.34447774  -2.08725171 -16.80039364  18.75098041  14.18124583\n",
            " -16.68275763  -2.92708235  -2.23206373  19.584633    11.03068106\n",
            "   8.59005261   8.98964535 -13.77179524  -7.69732441 -27.26026287\n",
            "  17.21646815  -4.02010709  -3.70569857 -15.2786241  -17.43436311\n",
            "   5.26931577 -16.04681909 -26.14746891  16.05044496  -7.41183394]\n",
            "shape of sample before is: (50, 28, 28)\n",
            "len(sample.shape) 3\n",
            "angle is: [0.38023558 0.43131828 0.81504482 0.3208369  0.75803621 0.93954484\n",
            " 0.6608682  0.43168108 0.74778972 0.45789737 0.41442727 0.52528316\n",
            " 0.31772233 0.10425022 0.41485201 0.12385688 0.41044147 0.55693372\n",
            " 0.93071118 0.03622233 0.62145841 0.45773519 0.02026113 0.24954818\n",
            " 0.11848525 0.21679415 0.27457024 0.40130634 0.52903939 0.00098999\n",
            " 0.16186936 0.09356639 0.5496734  0.32907487 0.54839774 0.2218233\n",
            " 0.02422935 0.9413669  0.10830812 0.12685875 0.14654683 0.98127652\n",
            " 0.61766024 0.61028995 0.9866982  0.08843877 0.97450089 0.20401315\n",
            " 0.6230715  0.42008357]\n",
            "angle with constraint is: [ -7.18586497  -4.12090311  18.9026894  -10.74978624  15.48217268\n",
            "  26.37269045   9.65209176  -4.09913513  14.86738339  -2.52615781\n",
            "  -5.13436373   1.51698981 -10.93665991 -23.74498702  -5.10887967\n",
            " -22.56858713  -5.37351159   3.41602327  25.84267087 -27.82666014\n",
            "   7.28750439  -2.5358888  -28.78433231 -15.02710944 -22.89088486\n",
            " -16.99235126 -13.52578539  -5.92161988   1.74236361 -29.94060036\n",
            " -20.28783836 -24.38601686   2.98040396 -10.25550778   2.90386416\n",
            " -16.69060187 -28.54623875  26.48201408 -23.50151273 -22.38847512\n",
            " -21.20719041  28.87659144   7.05961441   6.6173971   29.20189209\n",
            " -24.69367384  28.47005355 -17.75921121   7.38429021  -4.79498608]\n",
            "shape of sample before is: (50, 28, 28)\n",
            "len(sample.shape) 3\n",
            "angle is: [0.38395181 0.93124333 0.14922773 0.99706901 0.37912506 0.6487749\n",
            " 0.96790673 0.05760105 0.92286436 0.56781139 0.70439688 0.14918418\n",
            " 0.53338743 0.67351371 0.45624731 0.15498518 0.24411908 0.85439279\n",
            " 0.03447099 0.70886208 0.99939004 0.007483   0.16104568 0.6741443\n",
            " 0.05999083 0.58978998 0.6840001  0.58814635 0.3651847  0.6972823\n",
            " 0.59429443 0.20763717 0.56313554 0.88190722 0.66683329 0.47179151\n",
            " 0.3215841  0.08588621 0.24462713 0.01118675 0.98662592 0.22248225\n",
            " 0.81487594 0.16864488 0.28360115 0.41827732 0.32440566 0.79835081\n",
            " 0.95769341 0.87529448]\n",
            "angle with constraint is: [ -6.96289119  25.87459971 -21.04633629  29.82414066  -7.25249633\n",
            "   8.92649423  28.07440389 -26.54393698  25.37186178   4.06868312\n",
            "  12.26381274 -21.04894897   2.00324585  10.41082288  -2.62516156\n",
            " -20.70088931 -15.35285549  21.26356746 -27.93174043  12.53172471\n",
            "  29.96340219 -29.55102023 -20.33725903  10.44865805 -26.40054992\n",
            "   5.38739903  11.04000621   5.28878089  -8.08891782  11.83693776\n",
            "   5.65766568 -17.54176967   3.78813262  22.91443303  10.00999714\n",
            "  -1.69250956 -10.70495383 -24.84682743 -15.32237203 -29.32879481\n",
            "  29.19755505 -16.65106487  18.89255656 -19.88130709 -12.98393102\n",
            "  -4.90336085 -10.53566015  17.90104877  27.46160448  22.51766902]\n",
            "shape of sample before is: (50, 28, 28)\n",
            "len(sample.shape) 3\n",
            "angle is: [0.15357787 0.77668868 0.14794691 0.91338111 0.51787858 0.33638109\n",
            " 0.1570255  0.01180909 0.24794699 0.91402006 0.79726219 0.96979371\n",
            " 0.10076152 0.59217874 0.25715047 0.54294171 0.32045489 0.28346555\n",
            " 0.5738453  0.18331816 0.46913344 0.65081227 0.12818207 0.93059427\n",
            " 0.5057247  0.81952797 0.65390543 0.71000094 0.71613094 0.8750999\n",
            " 0.61360544 0.27821715 0.09950964 0.60625062 0.0663528  0.24129345\n",
            " 0.06070718 0.54888759 0.16033812 0.61040732 0.79086513 0.82188072\n",
            " 0.30954351 0.54895453 0.56301076 0.47288718 0.65511389 0.21008712\n",
            " 0.97924324 0.09807983]\n",
            "angle with constraint is: [-20.78532798  16.60132058 -21.1231852   24.80286639   1.07271454\n",
            "  -9.81713472 -20.57847016 -29.29145471 -15.1231805   24.8412038\n",
            "  17.83573154  28.18762247 -23.95430873   5.53072461 -14.57097156\n",
            "   2.57650235 -10.77270687 -12.99206699   4.43071812 -19.00091029\n",
            "  -1.85199378   9.0487359  -22.30907561  25.83565625   0.34348197\n",
            "  19.17167831   9.23432584  12.60005647  12.96785646  22.50599382\n",
            "   6.8163261  -13.3069709  -24.02942143   6.37503717 -26.01883177\n",
            " -15.5223929  -26.35756892   2.93325534 -20.3797125    6.62443917\n",
            "  17.45190785  19.31284325 -11.42738951   2.93727196   3.78064561\n",
            "  -1.62676907   9.30683349 -17.39477257  28.75459438 -24.11521037]\n",
            "Accuracy after rotation augmentation constrained by  60  is  0.6625\n",
            "shape of sample before is: (50, 28, 28)\n",
            "len(sample.shape) 3\n",
            "angle is: [0.82922114 0.59409599 0.24485475 0.745675   0.0844809  0.77441783\n",
            " 0.58998522 0.11075032 0.07950556 0.75083633 0.29293591 0.88930185\n",
            " 0.76207302 0.69819024 0.27860605 0.70894452 0.94814768 0.09155983\n",
            " 0.32616264 0.23467227 0.39325013 0.74233265 0.47424258 0.57073061\n",
            " 0.31415489 0.14128927 0.26693365 0.8596803  0.60241696 0.37798867\n",
            " 0.78990598 0.06445743 0.25389109 0.23010315 0.98536456 0.70609858\n",
            " 0.61778594 0.00498497 0.18431    0.63554129 0.37971933 0.92428038\n",
            " 0.76472422 0.44738407 0.74951498 0.97540432 0.46098082 0.64252589\n",
            " 0.91866462 0.24867466]\n",
            "angle with constraint is: [ 23.04547988   6.58671909 -17.8601677   17.19725005 -29.0863373\n",
            "  19.20924841   6.29896556 -27.24747771 -29.43461058  17.55854334\n",
            " -14.49448654  27.25112955  18.34511147  13.87331713 -15.49757632\n",
            "  14.62611633  31.37033792 -28.59081159 -12.16861506 -18.57294142\n",
            "  -7.47249059  16.96328584  -1.8030193    4.95114243 -13.00915783\n",
            " -25.1097513  -16.31464457  25.17762109   7.16918735  -8.54079288\n",
            "  20.29341872 -30.48797973 -17.22762385 -18.89277922  33.97551935\n",
            "  14.42690077   8.24501555 -34.65105243 -22.09829985   9.48789051\n",
            "  -8.41964715  29.69962686  18.53069534  -3.6831149   17.46604843\n",
            "  33.27830267  -2.73134227   9.97681215  29.30652305 -17.59277366]\n",
            "shape of sample before is: (50, 28, 28)\n",
            "len(sample.shape) 3\n",
            "angle is: [0.88655791 0.09754471 0.64844817 0.78283816 0.61460622 0.4955348\n",
            " 0.6173471  0.15166371 0.21557071 0.26989934 0.59777934 0.44190107\n",
            " 0.24447584 0.88280933 0.37392184 0.44603172 0.40970108 0.18194296\n",
            " 0.73162702 0.44845826 0.01625711 0.9640137  0.81576361 0.72355935\n",
            " 0.86909187 0.90680725 0.33748971 0.61095868 0.60880781 0.26729967\n",
            " 0.22195225 0.11390725 0.6593142  0.78091899 0.76095298 0.31627538\n",
            " 0.20525985 0.45361418 0.54681346 0.91908713 0.87482315 0.91605833\n",
            " 0.85026239 0.9645812  0.4655     0.0474735  0.08356203 0.39027614\n",
            " 0.25768709 0.16994059]\n",
            "angle with constraint is: [ 27.05905396 -28.17187053  10.39137194  19.79867085   8.02243535\n",
            "  -0.31256371   8.21429699 -24.38354039 -19.91005028 -16.10704592\n",
            "   6.84455384  -4.06692484 -17.88669103  26.79665325  -8.82547118\n",
            "  -3.77777965  -6.32092464 -22.26399313  16.21389108  -3.60792164\n",
            " -33.86200231  32.48095917  22.10345281  15.64915479  25.83643094\n",
            "  28.47650775 -11.37572055   7.76710749   7.61654664 -16.28902318\n",
            " -19.4633424  -27.02649216  11.15199371  19.66432937  18.26670857\n",
            " -12.8607236  -20.63181047  -3.24700751   3.27694222  29.33609896\n",
            "  26.2376208   29.12408319  24.51836696  32.52068431  -2.4150002\n",
            " -31.67685518 -29.15065775  -7.68067008 -16.96190361 -23.1041586 ]\n",
            "shape of sample before is: (50, 28, 28)\n",
            "len(sample.shape) 3\n",
            "angle is: [0.95320377 0.19541959 0.95937927 0.76083884 0.64094567 0.67601896\n",
            " 0.33147432 0.64642704 0.18669212 0.93770543 0.30179334 0.25518651\n",
            " 0.7111628  0.65644872 0.45129892 0.63244623 0.15949307 0.67332831\n",
            " 0.2706107  0.27283598 0.16217993 0.33237714 0.33125106 0.45417901\n",
            " 0.1904195  0.19300754 0.54173857 0.1288774  0.68889701 0.94394713\n",
            " 0.42679562 0.90110531 0.09831659 0.04295763 0.72136888 0.76102157\n",
            " 0.84305824 0.05681768 0.77690705 0.37653873 0.30333763 0.17302392\n",
            " 0.99601576 0.06366359 0.82700801 0.63949444 0.73508044 0.71171712\n",
            " 0.85843449 0.18379207]\n",
            "angle with constraint is: [ 31.72426422 -21.32062881  32.15654906  18.25871882   9.86619705\n",
            "  12.32132721 -11.79679734  10.24989266 -21.93155172  30.63938028\n",
            " -13.8744662  -17.13694414  14.78139587  10.95141026  -3.40907572\n",
            "   9.27123643 -23.83548498  12.13298152 -16.05725134 -15.90148163\n",
            " -23.64740455 -11.73360055 -11.81242578  -3.20746918 -21.67063467\n",
            " -21.48947247   2.92170002 -25.97858167  13.22279056  31.07629881\n",
            "  -5.12430648  28.07737192 -28.11783862 -31.99296608  15.49582143\n",
            "  18.27151011  24.01407687 -31.02276251  19.38349385  -8.6422887\n",
            " -13.76636571 -22.88832551  34.72110286 -30.54354875  22.89056102\n",
            "   9.76461048  16.4556311   14.82019839  25.09041396 -22.13455511]\n",
            "shape of sample before is: (50, 28, 28)\n",
            "len(sample.shape) 3\n",
            "angle is: [8.24616835e-04 5.98528489e-01 3.53858639e-01 1.23787331e-01\n",
            " 1.86138754e-01 3.31749312e-01 7.02333709e-02 5.69132021e-02\n",
            " 9.16026255e-01 3.12102749e-01 9.82230697e-01 9.64367008e-01\n",
            " 1.42571282e-01 7.14924303e-01 6.00804889e-01 6.90647073e-01\n",
            " 9.61910000e-02 1.88560079e-01 7.66386615e-02 6.04134205e-01\n",
            " 9.86591076e-01 6.71984538e-01 7.10761535e-01 9.84585042e-01\n",
            " 6.78011554e-01 4.01815726e-02 8.67005601e-01 3.64678290e-01\n",
            " 4.36362151e-03 5.07234178e-01 9.37015001e-01 2.57330687e-01\n",
            " 4.91513173e-01 1.73776888e-01 5.76926717e-02 8.05449467e-02\n",
            " 7.27010906e-01 8.64074471e-01 1.43298839e-01 2.88318568e-01\n",
            " 1.95029468e-01 2.68557769e-02 5.53431370e-01 6.99922170e-01\n",
            " 6.47877481e-01 3.88053547e-01 5.55010246e-01 9.40993066e-02\n",
            " 1.54303719e-01 9.31794620e-01]\n",
            "angle with constraint is: [-34.94227682   6.89699423 -10.22989525 -26.33488682 -21.97028721\n",
            " -11.77754813 -30.08366404 -31.01607585  29.12183784 -13.15280755\n",
            "  33.75614882  32.50569058 -25.02001024  15.0447012    7.05634224\n",
            "  13.34529512 -28.26663    -21.8007945  -29.6352937    7.28939437\n",
            "  34.06137531  12.03891764  14.75330745  33.92095291  12.46080879\n",
            " -32.18728992  25.69039206  -9.47251967 -34.69454649   0.50639243\n",
            "  30.59105006 -16.9868519   -0.59407789 -22.83561786 -30.96151298\n",
            " -29.36185373  15.89076342  25.48521295 -24.96908125 -14.81770025\n",
            " -21.34793726 -33.12009562   3.74019589  13.99455191  10.35142366\n",
            "  -7.83625169   3.85071722 -28.41304854 -24.19873969  30.22562337]\n",
            "shape of sample before is: (50, 28, 28)\n",
            "len(sample.shape) 3\n",
            "angle is: [0.76150775 0.9227391  0.91668028 0.64939262 0.92823865 0.4167041\n",
            " 0.00361624 0.06257112 0.10948733 0.09535345 0.35170239 0.70127081\n",
            " 0.79064881 0.59021327 0.14643617 0.7479016  0.35480192 0.01299335\n",
            " 0.28058862 0.33060055 0.27424554 0.81187015 0.7599264  0.69555203\n",
            " 0.13900508 0.80783391 0.67717596 0.19483769 0.64809393 0.48351164\n",
            " 0.43935006 0.11212316 0.51830428 0.09993181 0.16425339 0.13254631\n",
            " 0.95410828 0.28486469 0.35520432 0.32208061 0.89825045 0.56296591\n",
            " 0.9191599  0.29992491 0.11483467 0.55621845 0.34553699 0.80190683\n",
            " 0.87942341 0.47257351]\n",
            "angle with constraint is: [ 18.30554235  29.59173671  29.16761991  10.4574832   29.97670537\n",
            "  -5.83071278 -34.74686287 -30.62002189 -27.3358872  -28.32525828\n",
            " -10.38083264  14.0889565   20.34541646   6.3149292  -24.74946778\n",
            "  17.35311215 -10.16386566 -34.09046559 -15.35879656 -11.85796121\n",
            " -15.80281253  21.83091072  18.19484783  13.68864213 -25.2696445\n",
            "  21.54837368  12.40231732 -21.36136195  10.36657512  -1.15418513\n",
            "  -4.24549567 -27.15137856   1.28129931 -28.00477337 -23.50226289\n",
            " -25.721758    31.78757953 -15.05947167 -10.13569735 -12.45435756\n",
            "  27.87753116   4.40761379  29.34119293 -14.00525659 -26.96157279\n",
            "   3.93529169 -10.81241057  21.13347834  26.55963862  -1.91985424]\n",
            "Accuracy after rotation augmentation constrained by  70  is  0.6657\n",
            "shape of sample before is: (50, 28, 28)\n",
            "len(sample.shape) 3\n",
            "angle is: [0.97135902 0.55301301 0.27092039 0.48897552 0.03731029 0.80400116\n",
            " 0.10143505 0.30874849 0.56531655 0.04297513 0.0793169  0.69611636\n",
            " 0.07177709 0.47708287 0.33869563 0.22807941 0.1887789  0.76341129\n",
            " 0.95154219 0.14017974 0.95968122 0.5947625  0.64166041 0.70992638\n",
            " 0.70411889 0.81981111 0.48346865 0.53335859 0.323827   0.10525759\n",
            " 0.66464019 0.03360997 0.27563505 0.09422986 0.19072716 0.63873091\n",
            " 0.62847663 0.42105491 0.09017198 0.43337392 0.35274487 0.72045915\n",
            " 0.57902661 0.49156577 0.48698208 0.96629689 0.75629422 0.49697956\n",
            " 0.47922261 0.0264791 ]\n",
            "angle with constraint is: [ 37.70872193   4.24104051 -18.32636853  -0.88195877 -37.01517661\n",
            "  24.32009282 -31.88519593 -15.30012092   5.22532376 -36.56198995\n",
            " -33.65464807  15.68930861 -34.25783256  -1.8333707  -12.90434933\n",
            " -21.75364736 -24.89768817  21.0729035   36.12337545 -28.78562062\n",
            "  36.77449753   7.58100028  11.33283243  16.79411025  16.32951123\n",
            "  25.58488865  -1.32250789   2.668687   -14.0938398  -31.5793925\n",
            "  13.17121527 -37.31120247 -17.94919591 -32.46161084 -24.74182741\n",
            "  11.09847303  10.27813042  -6.31560696 -32.78624188  -5.33008668\n",
            " -11.78041025  17.63673223   6.32212866  -0.67473861  -1.04143342\n",
            "  37.30375098  20.50353774  -0.24163516  -1.66219097 -37.8816719 ]\n",
            "shape of sample before is: (50, 28, 28)\n",
            "len(sample.shape) 3\n",
            "angle is: [0.94250926 0.31917397 0.25593908 0.99940893 0.71868967 0.04736377\n",
            " 0.06188548 0.02550156 0.5996189  0.0715645  0.93338836 0.93690654\n",
            " 0.54605407 0.61663893 0.2918944  0.06397254 0.73746045 0.10178599\n",
            " 0.08555764 0.31122311 0.01246566 0.43403562 0.70768091 0.80134893\n",
            " 0.6043073  0.8468742  0.4065022  0.84877209 0.50647331 0.22303613\n",
            " 0.94414565 0.27497087 0.02620148 0.24267404 0.36668756 0.35134968\n",
            " 0.52466751 0.88312688 0.29233823 0.52077061 0.34013895 0.82177306\n",
            " 0.15760151 0.10351027 0.50299525 0.67188759 0.7955252  0.58962485\n",
            " 0.77384976 0.39271006]\n",
            "angle with constraint is: [ 35.40074107 -14.46608226 -19.52487345  39.95271403  17.49517372\n",
            " -36.21089814 -35.04916184 -37.95987488   7.96951196 -34.27484\n",
            "  34.67106855  34.9525232    3.68432534   9.33111451 -16.64844788\n",
            " -34.88219661  18.99683562 -31.8571209  -33.15538872 -15.10215126\n",
            " -39.00274721  -5.27715074  16.61447281  24.10791451   8.3445843\n",
            "  27.74993625  -7.4798237   27.9017668    0.51786484 -22.15710976\n",
            "  35.53165173 -18.00233009 -37.90388126 -20.58607656 -10.6649951\n",
            " -11.89202534   1.97340076  30.65015056 -16.61294183   1.66164864\n",
            " -12.7888837   25.74184475 -27.39187894 -31.71917854   0.23962026\n",
            "  13.75100686  23.64201609   7.16998823  21.90798091  -8.58319532]\n",
            "shape of sample before is: (50, 28, 28)\n",
            "len(sample.shape) 3\n",
            "angle is: [0.03286767 0.11609931 0.0387226  0.32894365 0.49549134 0.35631748\n",
            " 0.56059948 0.48060915 0.6779428  0.66696216 0.31806415 0.34621446\n",
            " 0.58514782 0.59643247 0.31469991 0.33031789 0.69404501 0.64741082\n",
            " 0.1350508  0.44104188 0.89270608 0.03630568 0.85516395 0.16317816\n",
            " 0.50724863 0.42433643 0.01012934 0.91539694 0.45492523 0.95426828\n",
            " 0.2867439  0.86627577 0.92238957 0.55683242 0.20267779 0.68524743\n",
            " 0.54897807 0.94452967 0.43927206 0.26851365 0.138287   0.69863357\n",
            " 0.97410962 0.02834377 0.74044535 0.92693036 0.07478153 0.11017005\n",
            " 0.6919571  0.64796338]\n",
            "angle with constraint is: [-37.37058638 -30.71205537 -36.9021919  -13.68450796  -0.3606927\n",
            " -11.49460131   4.84795801  -1.55126812  14.23542415  13.35697309\n",
            " -14.55486823 -12.30284357   6.81182573   7.71459743 -14.82400691\n",
            " -13.57456914  15.52360105  11.79286583 -29.19593563  -4.71664963\n",
            "  31.4164863  -37.09554591  28.41311572 -26.94574743   0.5798906\n",
            "  -6.05308569 -39.18965301  33.23175497  -3.60598181  36.34146214\n",
            " -17.06048792  29.30206187  33.79116592   4.54659331 -23.78577697\n",
            "  14.81979457   3.91824532  35.56237327  -4.85823506 -18.51890819\n",
            " -28.93703988  15.89068549  37.92876952 -37.73249835  19.23562838\n",
            "  34.154429   -34.01747726 -31.18639639  15.35656788  11.83707007]\n",
            "shape of sample before is: (50, 28, 28)\n",
            "len(sample.shape) 3\n",
            "angle is: [0.06882742 0.83442275 0.52342385 0.90719737 0.87799088 0.81250777\n",
            " 0.5158989  0.25171064 0.5059755  0.10081138 0.65884615 0.13397722\n",
            " 0.51117296 0.05438197 0.29951249 0.23208046 0.62003154 0.78678671\n",
            " 0.05730295 0.85028369 0.86076769 0.34226907 0.65900407 0.40261303\n",
            " 0.15419088 0.52866242 0.08635967 0.87847216 0.92428976 0.82161314\n",
            " 0.56252812 0.55759859 0.98460738 0.24790169 0.07594837 0.56194092\n",
            " 0.3287856  0.32233877 0.00708535 0.59623941 0.2640337  0.18785855\n",
            " 0.04043193 0.36436158 0.87896887 0.33667081 0.67907421 0.75654696\n",
            " 0.32810081 0.82164074]\n",
            "angle with constraint is: [-34.49380677  26.75382017   1.87390783  32.57578987  30.23927048\n",
            "  25.00062152   1.2719117  -19.86314866   0.47804031 -31.93508978\n",
            "  12.70769188 -29.28182246   0.893837   -35.64944207 -16.03900078\n",
            " -21.43356315   9.60252342  22.94293696 -35.41576364  28.02269481\n",
            "  28.8614156  -12.61847406  12.72032528  -7.79095746 -27.66472942\n",
            "   2.29299349 -33.09122604  30.27777243  33.94318075  25.72905096\n",
            "   5.00224966   4.60788729  38.76859013 -20.16786481 -33.92413073\n",
            "   4.95527389 -13.69715218 -14.21289818 -39.43317167   7.69915276\n",
            " -18.87730382 -24.97131614 -36.76544549 -10.85107388  30.31750979\n",
            " -13.06633539  14.32593681  20.52375707 -13.75193526  25.7312588 ]\n",
            "shape of sample before is: (50, 28, 28)\n",
            "len(sample.shape) 3\n",
            "angle is: [0.69187966 0.55924223 0.00099246 0.03509077 0.99086584 0.78228392\n",
            " 0.93756526 0.9023032  0.02044298 0.79184729 0.45114574 0.7895582\n",
            " 0.00671578 0.2881993  0.75132378 0.79302079 0.6197146  0.30125619\n",
            " 0.31036259 0.96676396 0.43921218 0.44712555 0.55233275 0.40950234\n",
            " 0.55267156 0.43233542 0.82671492 0.90905102 0.93211026 0.56429621\n",
            " 0.44214856 0.70524006 0.83832359 0.56298224 0.69998102 0.74972935\n",
            " 0.67639378 0.74613356 0.20864533 0.49837455 0.58826855 0.00247793\n",
            " 0.85596251 0.61002451 0.12913633 0.81635707 0.71705697 0.75829954\n",
            " 0.39204246 0.85420251]\n",
            "angle with constraint is: [ 15.35037277   4.7393783  -39.92060288 -37.19273873  39.26926753\n",
            "  22.58271388  35.0052207   32.18425639 -38.36456135  23.34778318\n",
            "  -3.90834048  23.16465632 -39.46273727 -16.9440559   20.10590206\n",
            "  23.44166309   9.5771681  -15.89950484 -15.1709927   37.34111709\n",
            "  -4.86302566  -4.22995598   4.18662002  -7.23981305   4.21372517\n",
            "  -5.41316618  26.13719357  32.72408158  34.56882079   5.14369647\n",
            "  -4.6281154   16.4192047   27.0658873    5.03857937  15.99848175\n",
            "  19.97834806  14.11150214  19.69068446 -23.3083734   -0.13003624\n",
            "   7.06148437 -39.80176553  28.47700071   8.80196068 -29.66909346\n",
            "  25.30856581  17.36455732  20.66396348  -8.63660305  28.33620054]\n",
            "Accuracy after rotation augmentation constrained by  80  is  0.6505\n",
            "shape of sample before is: (50, 28, 28)\n",
            "len(sample.shape) 3\n",
            "angle is: [4.14027582e-01 5.70509153e-01 6.42303700e-04 6.44873115e-01\n",
            " 7.18175792e-01 5.67109365e-01 4.96558817e-01 8.09936474e-01\n",
            " 6.81372717e-01 2.78074040e-01 9.59073338e-01 7.07267194e-01\n",
            " 9.87938929e-01 9.71261316e-01 9.18909723e-01 7.55371541e-01\n",
            " 6.09429368e-01 1.72170664e-01 5.43351417e-01 7.65376522e-01\n",
            " 5.20857159e-01 8.68239128e-01 1.09655899e-01 3.80940348e-01\n",
            " 5.05964419e-01 4.32325296e-01 1.08586548e-01 1.53528294e-01\n",
            " 8.37617293e-01 4.84384259e-01 4.87224268e-02 1.64912590e-02\n",
            " 4.73475402e-01 1.64378726e-01 7.05125946e-01 7.95323463e-01\n",
            " 2.28296708e-01 5.92176945e-01 1.54444643e-01 3.03582652e-01\n",
            " 8.88795494e-01 5.44098091e-01 8.85888695e-01 2.25247804e-01\n",
            " 3.30024343e-01 4.70952138e-01 4.80080075e-01 9.97647967e-01\n",
            " 1.14445319e-01 8.51965036e-01]\n",
            "angle with constraint is: [ -7.73751761   6.34582377 -44.94219267  13.03858032  19.63582129\n",
            "   6.03984289  -0.30970647  27.89428263  16.32354454 -19.97333643\n",
            "  41.31660043  18.65404748  43.9145036   42.41351846  37.70187505\n",
            "  22.98343871   9.84864316 -29.50464027   3.90162757  23.88388702\n",
            "   1.87714428  33.14152156 -35.13096907 -10.71536868   0.53679767\n",
            "  -6.09072337 -35.2272107  -31.18245354  30.38555636  -1.40541667\n",
            " -40.61498159 -43.51578669  -2.38721382 -30.20591467  18.46133514\n",
            "  26.57911163 -24.45329624   8.29592504 -31.09998209 -17.67756136\n",
            "  34.99159448   3.96882823  34.72998256 -24.72769762 -15.29780911\n",
            "  -2.61430754  -1.79279323  44.78831705 -34.69992129  31.6768532 ]\n",
            "shape of sample before is: (50, 28, 28)\n",
            "len(sample.shape) 3\n",
            "angle is: [0.86368204 0.55319863 0.34403717 0.5192261  0.2924677  0.79910745\n",
            " 0.49827916 0.92584218 0.62269134 0.51431933 0.71106935 0.50393296\n",
            " 0.90450635 0.18444596 0.97334868 0.81219055 0.86073336 0.48290783\n",
            " 0.83720155 0.30677408 0.76194818 0.14045016 0.30705192 0.44573266\n",
            " 0.32231972 0.38701712 0.82010474 0.25667589 0.74528117 0.07371207\n",
            " 0.76573911 0.79202324 0.40169878 0.72247782 0.9151384  0.80071297\n",
            " 0.39044651 0.48421351 0.77935754 0.29259459 0.80388274 0.32807114\n",
            " 0.80599058 0.08680044 0.0443973  0.99767545 0.86945712 0.8828475\n",
            " 0.95127995 0.43831631]\n",
            "angle with constraint is: [ 32.73138355   4.78787684 -14.03665486   1.73034939 -18.67790657\n",
            "  26.91967036  -0.15487572  38.3257961   11.04222099   1.28873998\n",
            "  18.99624186   0.3539668   36.40557154 -28.39986352  42.60138154\n",
            "  28.09714967  32.46600257  -1.53829509  30.34813944 -17.39033248\n",
            "  23.57533607 -32.35948574 -17.36532756  -4.8840603  -15.99122537\n",
            " -10.16845959  28.80942703 -21.89916971  22.07530549 -38.36591378\n",
            "  23.91651968  26.28209185  -8.8471102   20.02300409  37.36245634\n",
            "  27.06416762  -9.85981406  -1.42078371  25.14217903 -18.66648691\n",
            "  27.34944663 -15.47359717  27.53915241 -37.1879601  -41.00424328\n",
            "  44.79079026  33.25114109  34.45627531  40.61519528  -5.55153215]\n",
            "shape of sample before is: (50, 28, 28)\n",
            "len(sample.shape) 3\n",
            "angle is: [0.28683555 0.130025   0.50120913 0.22004832 0.93555086 0.00400316\n",
            " 0.14319674 0.24647585 0.19895671 0.22577844 0.65604761 0.32751208\n",
            " 0.61502438 0.89025793 0.60255677 0.69453279 0.3655033  0.15973847\n",
            " 0.32058406 0.96428265 0.62181138 0.27751112 0.45091527 0.83551304\n",
            " 0.66844357 0.56065284 0.88516288 0.67243957 0.64272973 0.18976814\n",
            " 0.10638868 0.96514212 0.59885837 0.41568341 0.58902082 0.06181196\n",
            " 0.82212727 0.21664554 0.80454601 0.53437844 0.27657201 0.03020995\n",
            " 0.81583336 0.17646014 0.05180512 0.75587773 0.35004322 0.38933401\n",
            " 0.24706759 0.85917848]\n",
            "angle with constraint is: [-19.18480008 -33.29775045   0.10882202 -25.19565116  39.19957711\n",
            " -44.63971538 -32.1122936  -22.81717322 -27.09389596 -24.67994071\n",
            "  14.04428446 -15.52391295  10.35219437  35.12321403   9.2301089\n",
            "  17.50795122 -12.10470316 -30.62353791 -16.14743438  41.78543838\n",
            "  10.9630246  -20.02399925  -4.41762596  30.19617337  15.15992136\n",
            "   5.45875567  34.6646589   15.5195615   12.84567577 -27.92086765\n",
            " -35.42501853  41.86279054   8.89725331  -7.58849318   8.01187388\n",
            " -39.4369235   28.99145465 -25.5019018   27.40914057   3.09405989\n",
            " -20.10851877 -42.28110466  28.42500198 -29.11858727 -40.33753959\n",
            "  23.02899577 -13.49610999  -9.9599395  -22.76391714  32.32606308]\n",
            "shape of sample before is: (50, 28, 28)\n",
            "len(sample.shape) 3\n",
            "angle is: [0.29732953 0.21019257 0.30924973 0.20314958 0.31765522 0.08293622\n",
            " 0.15853003 0.41705288 0.87946686 0.05729075 0.21267471 0.90834568\n",
            " 0.89001467 0.67945083 0.24047355 0.41981056 0.21122099 0.12858851\n",
            " 0.37999839 0.57582161 0.35993268 0.61082455 0.29625474 0.34585053\n",
            " 0.79067359 0.87831473 0.32203408 0.5715158  0.27816228 0.05333464\n",
            " 0.73785718 0.17100348 0.42571252 0.48704549 0.18447158 0.09455535\n",
            " 0.34801301 0.95228591 0.61513559 0.38141023 0.03891082 0.60027328\n",
            " 0.09225764 0.54254407 0.75195051 0.42358535 0.29941149 0.04738423\n",
            " 0.02477788 0.43002657]\n",
            "angle with constraint is: [-18.24034265 -26.08266872 -17.16752463 -26.71653823 -16.41103013\n",
            " -37.53573994 -30.73229738  -7.46524049  34.152017   -39.84383279\n",
            " -25.85927639  36.7511108   35.10132067  16.150575   -23.35738013\n",
            "  -7.2170495  -25.9901105  -33.42703418 -10.80014449   6.82394446\n",
            " -12.60605921   9.97420954 -18.33707382 -13.8734525   26.16062325\n",
            "  34.04832578 -16.01693266   6.43642212 -19.96539445 -40.19988225\n",
            "  21.40714632 -29.60968651  -6.68587286  -1.1659056  -28.39755742\n",
            " -36.49001844 -13.67882868  40.70573168  10.3622031  -10.67307944\n",
            " -41.49802613   9.02459533 -36.69681232   3.82896639  22.67554574\n",
            "  -6.87731865 -18.05296547 -40.73541896 -42.76999124  -6.29760873]\n",
            "shape of sample before is: (50, 28, 28)\n",
            "len(sample.shape) 3\n",
            "angle is: [0.88334527 0.24406278 0.57405551 0.68430582 0.06082987 0.15310038\n",
            " 0.33127679 0.67009317 0.43903511 0.73419507 0.86759787 0.75837228\n",
            " 0.99224721 0.75436107 0.8521792  0.83236636 0.73026576 0.80180182\n",
            " 0.93468323 0.47520738 0.63828702 0.51493972 0.85103699 0.4313596\n",
            " 0.81972677 0.79935458 0.9618861  0.2489207  0.70961951 0.7569195\n",
            " 0.93627849 0.90690242 0.57352586 0.57915319 0.16729123 0.9749627\n",
            " 0.25501746 0.72473622 0.795795   0.4412155  0.21119372 0.18896038\n",
            " 0.856496   0.51075649 0.09013698 0.71701947 0.25017105 0.87639475\n",
            " 0.30957179 0.20027083]\n",
            "angle with constraint is: [ 34.50107436 -23.03434991   6.66499552  16.58752377 -39.52531192\n",
            " -31.22096618 -15.18508859  15.30838567  -5.4868399   21.07755614\n",
            "  33.0838079   23.25350489  44.30224866  22.89249619  31.69612755\n",
            "  29.91297226  20.72391861  27.1621635   39.12149051  -2.23133593\n",
            "  12.44583215   1.34457494  31.59332885  -6.17763574  28.7754094\n",
            "  26.94191176  41.56974912 -22.59713707  18.86575589  23.12275479\n",
            "  39.26506435  36.62121762   6.61732755   7.12378673 -29.94378944\n",
            "  42.74664322 -22.04842836  20.22625966  26.62155043  -5.29060458\n",
            " -25.9925652  -27.99356542  32.08464008   0.96808381 -36.88767162\n",
            "  19.53175255 -22.48460525  33.87552757 -17.13853926 -26.97562529]\n",
            "Accuracy after rotation augmentation constrained by  90  is  0.6546\n"
          ]
        }
      ]
    },
    {
      "cell_type": "code",
      "source": [
        "#Accuracy after rotation augmentation constrained by  90  is  0.6467"
      ],
      "metadata": {
        "id": "ZPOH1A3RnqDr"
      },
      "execution_count": 25,
      "outputs": []
    },
    {
      "cell_type": "markdown",
      "source": [
        "Let us see the best value for angle constraint: (Ideally this should be done on validation set, not test set)"
      ],
      "metadata": {
        "id": "8Le-7VJBoP8K"
      }
    },
    {
      "cell_type": "code",
      "source": [
        "fig = plt.figure()\n",
        "ax = fig.add_axes([0.1, 0.1, 0.8, 0.8]) # main axes\n",
        "# plot the variation of accuracy\n",
        "ax.plot(angleconstraints, accuracies)\n",
        "ax.set_xlabel('angle')\n",
        "ax.set_ylabel('accuracy')\n",
        "# plot the maximum accuracy\n",
        "maxind = np.argmax(accuracies)\n",
        "plt.scatter(angleconstraints[maxind], accuracies[maxind], c='red')"
      ],
      "metadata": {
        "colab": {
          "base_uri": "https://localhost:8080/",
          "height": 309
        },
        "id": "xG__xE-FoQOg",
        "outputId": "58439f70-1f1c-4d11-8879-814f35d8ae2e"
      },
      "execution_count": 26,
      "outputs": [
        {
          "output_type": "execute_result",
          "data": {
            "text/plain": [
              "<matplotlib.collections.PathCollection at 0x7fd26152fc50>"
            ]
          },
          "metadata": {},
          "execution_count": 26
        },
        {
          "output_type": "display_data",
          "data": {
            "text/plain": [
              "<Figure size 432x288 with 1 Axes>"
            ],
            "image/png": "[encoded data removed]"
          },
          "metadata": {
            "needs_background": "light"
          }
        }
      ]
    },
    {
      "cell_type": "markdown",
      "source": [
        "Let us do a grid search to find the best shear constraint."
      ],
      "metadata": {
        "id": "Vfy-LEb-qdUd"
      }
    },
    {
      "cell_type": "code",
      "source": [
        "shearconstraints = [0, 0.2,0.4,0.6,0.8,1.0,1.2,1.4,1.6,1.8,2.0] # the values we want to test\n",
        "accuracies = np.zeros(len(shearconstraints), dtype=np.float) # we will save the values here\n",
        "\n",
        "for ii in range(len(shearconstraints)):\n",
        "  # create the augmented dataset\n",
        "  augdata = train_X # we include the original images also in the augmented dataset\n",
        "  auglabel = train_y\n",
        "  for jj in range(naugmentations):\n",
        "    augdata = np.concatenate((augdata, augShear(train_X, shearconstraints[ii]))) # concatenate the augmented data to the set\n",
        "    auglabel = np.concatenate((auglabel, train_y))  # the labels don't change when we augment\n",
        "\n",
        "  # check the test accuracy\n",
        "  testpred = NN(augdata, auglabel, test_X)\n",
        "  accuracies[ii] = Accuracy(test_y, testpred)\n",
        "  print('Accuracy after shear augmentation constrained by ',shearconstraints[ii], ' is ', accuracies[ii], flush=True)"
      ],
      "metadata": {
        "colab": {
          "base_uri": "https://localhost:8080/"
        },
        "id": "22m9xPrBoSDi",
        "outputId": "38fef211-08c1-4a94-82a5-1d706e188d79"
      },
      "execution_count": 27,
      "outputs": [
        {
          "output_type": "stream",
          "name": "stderr",
          "text": [
            "/usr/local/lib/python3.7/dist-packages/ipykernel_launcher.py:2: DeprecationWarning: `np.float` is a deprecated alias for the builtin `float`. To silence this warning, use `float` by itself. Doing this will not modify any behavior and is safe. If you specifically wanted the numpy scalar type, use `np.float64` here.\n",
            "Deprecated in NumPy 1.20; for more details and guidance: https://numpy.org/devdocs/release/1.20.0-notes.html#deprecations\n",
            "  \n"
          ]
        },
        {
          "output_type": "stream",
          "name": "stdout",
          "text": [
            "Accuracy after shear augmentation constrained by  0  is  0.6472\n",
            "Accuracy after shear augmentation constrained by  0.2  is  0.6183\n",
            "Accuracy after shear augmentation constrained by  0.4  is  0.6383\n",
            "Accuracy after shear augmentation constrained by  0.6  is  0.6499\n",
            "Accuracy after shear augmentation constrained by  0.8  is  0.6455\n",
            "Accuracy after shear augmentation constrained by  1.0  is  0.6527\n",
            "Accuracy after shear augmentation constrained by  1.2  is  0.6372\n",
            "Accuracy after shear augmentation constrained by  1.4  is  0.6317\n",
            "Accuracy after shear augmentation constrained by  1.6  is  0.6046\n",
            "Accuracy after shear augmentation constrained by  1.8  is  0.6181\n",
            "Accuracy after shear augmentation constrained by  2.0  is  0.6039\n"
          ]
        }
      ]
    },
    {
      "cell_type": "code",
      "source": [
        "fig = plt.figure()\n",
        "ax = fig.add_axes([0.1, 0.1, 0.8, 0.8]) # main axes\n",
        "# plot the variation of accuracy\n",
        "ax.plot(shearconstraints, accuracies)\n",
        "ax.set_xlabel('angle')\n",
        "ax.set_ylabel('accuracy')\n",
        "# plot the maximum accuracy\n",
        "maxind = np.argmax(accuracies)\n",
        "plt.scatter(shearconstraints[maxind], accuracies[maxind], c='red')"
      ],
      "metadata": {
        "colab": {
          "base_uri": "https://localhost:8080/",
          "height": 309
        },
        "id": "kBBum9xPqglf",
        "outputId": "5f3a8ec1-f8a1-4be4-ac33-b6c4b5d82bc9"
      },
      "execution_count": 28,
      "outputs": [
        {
          "output_type": "execute_result",
          "data": {
            "text/plain": [
              "<matplotlib.collections.PathCollection at 0x7fd261027750>"
            ]
          },
          "metadata": {},
          "execution_count": 28
        },
        {
          "output_type": "display_data",
          "data": {
            "text/plain": [
              "<Figure size 432x288 with 1 Axes>"
            ],
            "image/png": "[encoded data removed]"
          },
          "metadata": {
            "needs_background": "light"
          }
        }
      ]
    },
    {
      "cell_type": "markdown",
      "source": [
        "We can do multiple augmentations at the same time. Here is a function to do both shear and rotation to the sample. In this case, we will have two hyperparameters."
      ],
      "metadata": {
        "id": "88Bu9veestqd"
      }
    },
    {
      "cell_type": "code",
      "source": [
        "def augRotateShear(sample, angleconstraint, shearconstraint):\n",
        "  if len(sample.shape)==2:\n",
        "    sample = np.expand_dims(sample, 0)  # make sure the sample is 3 dimensional\n",
        "  amt = rng.random(len(sample)) # generate random numbers for shear\n",
        "  amt = (amt-0.5)*shearconstraint # make the random shear constrained\n",
        "  angle = rng.random(len(sample)) # generate random numbers for angles\n",
        "  angle = (angle-0.5)*angleconstraint # make the random angle constrained\n",
        "  nsample = sample.copy() # preallocate the augmented array to make it faster\n",
        "  for ii in range(len(sample)):\n",
        "    nsample[ii] = rotate(shear(sample[ii], amt[ii]), angle[ii]) # first apply shear, then rotate\n",
        "  return np.squeeze(nsample) # take care if the input had only one sample."
      ],
      "metadata": {
        "id": "T9CflCiur-lr"
      },
      "execution_count": 29,
      "outputs": []
    },
    {
      "cell_type": "markdown",
      "source": [
        "Since we have two hyperparameters, we have to do the grid search on a 2 dimensional matrix. We can use our previous experience to inform where to search for the best hyperparameters. "
      ],
      "metadata": {
        "id": "-EdNnol9s4NZ"
      }
    },
    {
      "cell_type": "code",
      "source": [
        "shearconstraints = [0, 0.2,0.4,0.6,0.8,1.0,1.2,1.4,1.6] # the values we want to test\n",
        "angleconstraints = [0,10,20,30,40,50,60] # the values we want to test\n",
        "hyp = cartesian((shearconstraints, angleconstraints)) # cartesian product of both\n",
        "\n",
        "accuracies = np.zeros(len(hyp), dtype=np.float) # we will save the values here\n",
        "\n",
        "for ii in range(len(hyp)):\n",
        "  # create the augmented dataset\n",
        "  augdata = train_X # we include the original images also in the augmented dataset\n",
        "  auglabel = train_y\n",
        "  for jj in range(naugmentations):\n",
        "    augdata = np.concatenate((augdata, augRotateShear(train_X, hyp[ii][0], hyp[ii][1]))) # concatenate the augmented data to the set\n",
        "    auglabel = np.concatenate((auglabel, train_y))  # the labels don't change when we augment\n",
        "\n",
        "  # check the test accuracy\n",
        "  testpred = NN(augdata, auglabel, test_X)\n",
        "  accuracies[ii] = Accuracy(test_y, testpred)\n",
        "  print('Accuracy after augmentation shear:',hyp[ii][0], 'angle:',hyp[ii][1], ' is ', accuracies[ii], flush=True)"
      ],
      "metadata": {
        "colab": {
          "base_uri": "https://localhost:8080/"
        },
        "id": "UfmRisY-swyX",
        "outputId": "23b862a6-c54f-4a5a-ec2b-49beb8faee64"
      },
      "execution_count": 30,
      "outputs": [
        {
          "output_type": "stream",
          "name": "stderr",
          "text": [
            "/usr/local/lib/python3.7/dist-packages/ipykernel_launcher.py:5: DeprecationWarning: `np.float` is a deprecated alias for the builtin `float`. To silence this warning, use `float` by itself. Doing this will not modify any behavior and is safe. If you specifically wanted the numpy scalar type, use `np.float64` here.\n",
            "Deprecated in NumPy 1.20; for more details and guidance: https://numpy.org/devdocs/release/1.20.0-notes.html#deprecations\n",
            "  \"\"\"\n"
          ]
        },
        {
          "output_type": "stream",
          "name": "stdout",
          "text": [
            "Accuracy after augmentation shear: 0.0 angle: 0.0  is  0.6332\n",
            "Accuracy after augmentation shear: 0.0 angle: 10.0  is  0.6158\n",
            "Accuracy after augmentation shear: 0.0 angle: 20.0  is  0.6059\n",
            "Accuracy after augmentation shear: 0.0 angle: 30.0  is  0.623\n",
            "Accuracy after augmentation shear: 0.0 angle: 40.0  is  0.5913\n",
            "Accuracy after augmentation shear: 0.0 angle: 50.0  is  0.5948\n",
            "Accuracy after augmentation shear: 0.0 angle: 60.0  is  0.612\n",
            "Accuracy after augmentation shear: 0.2 angle: 0.0  is  0.6337\n",
            "Accuracy after augmentation shear: 0.2 angle: 10.0  is  0.6155\n",
            "Accuracy after augmentation shear: 0.2 angle: 20.0  is  0.604\n",
            "Accuracy after augmentation shear: 0.2 angle: 30.0  is  0.591\n",
            "Accuracy after augmentation shear: 0.2 angle: 40.0  is  0.5995\n",
            "Accuracy after augmentation shear: 0.2 angle: 50.0  is  0.6097\n",
            "Accuracy after augmentation shear: 0.2 angle: 60.0  is  0.5935\n",
            "Accuracy after augmentation shear: 0.4 angle: 0.0  is  0.6343\n",
            "Accuracy after augmentation shear: 0.4 angle: 10.0  is  0.5954\n",
            "Accuracy after augmentation shear: 0.4 angle: 20.0  is  0.583\n",
            "Accuracy after augmentation shear: 0.4 angle: 30.0  is  0.5947\n",
            "Accuracy after augmentation shear: 0.4 angle: 40.0  is  0.59\n",
            "Accuracy after augmentation shear: 0.4 angle: 50.0  is  0.6135\n",
            "Accuracy after augmentation shear: 0.4 angle: 60.0  is  0.589\n",
            "Accuracy after augmentation shear: 0.6 angle: 0.0  is  0.6345\n",
            "Accuracy after augmentation shear: 0.6 angle: 10.0  is  0.6068\n",
            "Accuracy after augmentation shear: 0.6 angle: 20.0  is  0.5971\n",
            "Accuracy after augmentation shear: 0.6 angle: 30.0  is  0.603\n",
            "Accuracy after augmentation shear: 0.6 angle: 40.0  is  0.5993\n",
            "Accuracy after augmentation shear: 0.6 angle: 50.0  is  0.5915\n",
            "Accuracy after augmentation shear: 0.6 angle: 60.0  is  0.6263\n",
            "Accuracy after augmentation shear: 0.8 angle: 0.0  is  0.6342\n",
            "Accuracy after augmentation shear: 0.8 angle: 10.0  is  0.5933\n",
            "Accuracy after augmentation shear: 0.8 angle: 20.0  is  0.6103\n",
            "Accuracy after augmentation shear: 0.8 angle: 30.0  is  0.5904\n",
            "Accuracy after augmentation shear: 0.8 angle: 40.0  is  0.5972\n",
            "Accuracy after augmentation shear: 0.8 angle: 50.0  is  0.6014\n",
            "Accuracy after augmentation shear: 0.8 angle: 60.0  is  0.5812\n",
            "Accuracy after augmentation shear: 1.0 angle: 0.0  is  0.6342\n",
            "Accuracy after augmentation shear: 1.0 angle: 10.0  is  0.6093\n",
            "Accuracy after augmentation shear: 1.0 angle: 20.0  is  0.5972\n",
            "Accuracy after augmentation shear: 1.0 angle: 30.0  is  0.5749\n",
            "Accuracy after augmentation shear: 1.0 angle: 40.0  is  0.5778\n",
            "Accuracy after augmentation shear: 1.0 angle: 50.0  is  0.593\n",
            "Accuracy after augmentation shear: 1.0 angle: 60.0  is  0.5981\n",
            "Accuracy after augmentation shear: 1.2 angle: 0.0  is  0.6343\n",
            "Accuracy after augmentation shear: 1.2 angle: 10.0  is  0.598\n",
            "Accuracy after augmentation shear: 1.2 angle: 20.0  is  0.5827\n",
            "Accuracy after augmentation shear: 1.2 angle: 30.0  is  0.6113\n",
            "Accuracy after augmentation shear: 1.2 angle: 40.0  is  0.6168\n",
            "Accuracy after augmentation shear: 1.2 angle: 50.0  is  0.6059\n",
            "Accuracy after augmentation shear: 1.2 angle: 60.0  is  0.5981\n",
            "Accuracy after augmentation shear: 1.4 angle: 0.0  is  0.6327\n",
            "Accuracy after augmentation shear: 1.4 angle: 10.0  is  0.6103\n",
            "Accuracy after augmentation shear: 1.4 angle: 20.0  is  0.6123\n",
            "Accuracy after augmentation shear: 1.4 angle: 30.0  is  0.5785\n",
            "Accuracy after augmentation shear: 1.4 angle: 40.0  is  0.6012\n",
            "Accuracy after augmentation shear: 1.4 angle: 50.0  is  0.595\n",
            "Accuracy after augmentation shear: 1.4 angle: 60.0  is  0.5995\n",
            "Accuracy after augmentation shear: 1.6 angle: 0.0  is  0.6327\n",
            "Accuracy after augmentation shear: 1.6 angle: 10.0  is  0.5748\n",
            "Accuracy after augmentation shear: 1.6 angle: 20.0  is  0.5852\n",
            "Accuracy after augmentation shear: 1.6 angle: 30.0  is  0.6046\n",
            "Accuracy after augmentation shear: 1.6 angle: 40.0  is  0.5867\n",
            "Accuracy after augmentation shear: 1.6 angle: 50.0  is  0.6029\n",
            "Accuracy after augmentation shear: 1.6 angle: 60.0  is  0.5927\n"
          ]
        }
      ]
    },
    {
      "cell_type": "markdown",
      "source": [
        "Let us plot it two dimensionally to see which is the best value for the hyperparameters:"
      ],
      "metadata": {
        "id": "twI4Tk5etBTE"
      }
    },
    {
      "cell_type": "code",
      "source": [
        "fig = plt.figure()\n",
        "ax = fig.add_axes([0.1, 0.1, 0.8, 0.8]) # main axes\n",
        "im = ax.imshow(accuracies.reshape((len(shearconstraints), len(angleconstraints))), cmap='inferno') \n",
        "ax.set_xlabel('angle')\n",
        "ax.set_ylabel('shear')\n",
        "ax.set_xticks(np.arange(len(angleconstraints)));\n",
        "ax.set_xticklabels(angleconstraints);\n",
        "ax.set_yticks(np.arange(len(shearconstraints)));\n",
        "ax.set_yticklabels(shearconstraints);\n",
        "plt.colorbar(im)"
      ],
      "metadata": {
        "colab": {
          "base_uri": "https://localhost:8080/",
          "height": 309
        },
        "id": "CS8X6jLAs7hW",
        "outputId": "1505cc69-d004-494d-8579-7d7fa8658496"
      },
      "execution_count": 31,
      "outputs": [
        {
          "output_type": "execute_result",
          "data": {
            "text/plain": [
              "<matplotlib.colorbar.Colorbar at 0x7fd260feda90>"
            ]
          },
          "metadata": {},
          "execution_count": 31
        },
        {
          "output_type": "display_data",
          "data": {
            "text/plain": [
              "<Figure size 432x288 with 2 Axes>"
            ],
            "image/png": "[encoded data removed]"
          },
          "metadata": {
            "needs_background": "light"
          }
        }
      ]
    },
    {
      "cell_type": "markdown",
      "source": [
        "It seems that rotation and shear don't mix! The best accuracy is when rotation is zero."
      ],
      "metadata": {
        "id": "JRnymka4vnla"
      }
    },
    {
      "cell_type": "markdown",
      "source": [
        "## Questions\n",
        "Try these questions for better understanding. You may not be able to solve all of them. \n",
        "1. What is the best value for angle constraint and shear constraint you got? How much did the accuracy improve as compared to not using augmentations?\n",
        "2. Can you increase the accuracy by increasing the number of augmentations from each sample?\n",
        "3. Try implementing a few augmentations of your own and experimenting with them. A good reference is <a href=https://www.analyticsvidhya.com/blog/2019/12/image-augmentation-deep-learning-pytorch/>here. </a>\n",
        "4. Try combining various augmentations. What is the highest accuracy you can get? What is the smallest training dataset you can take and still get accuracy above 50%?\n",
        "\n",
        "Whenever you do any experiment, a good practice is to vary the hyperparameters gradually and create a graph of your results, like we did for gridsearch. "
      ],
      "metadata": {
        "id": "cU9AxYWJvs_P"
      }
    },
    {
      "cell_type": "code",
      "source": [],
      "metadata": {
        "id": "U8vjAkkdvjOk"
      },
      "execution_count": 31,
      "outputs": []
    }
  ]
}